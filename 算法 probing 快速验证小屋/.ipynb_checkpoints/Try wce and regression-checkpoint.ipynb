{
 "cells": [
  {
   "cell_type": "code",
   "execution_count": 41,
   "metadata": {},
   "outputs": [],
   "source": [
    "import matplotlib.pyplot as plt\n",
    "import numpy as np"
   ]
  },
  {
   "cell_type": "code",
   "execution_count": 9,
   "metadata": {},
   "outputs": [],
   "source": [
    "import tensorflow as tf\n",
    "from tensorflow.keras.datasets import boston_housing\n",
    "(X, y_label), (test_X, test_y_label) = boston_housing.load_data()\n"
   ]
  },
  {
   "cell_type": "code",
   "execution_count": 13,
   "metadata": {},
   "outputs": [
    {
     "data": {
      "text/plain": [
       "5.0"
      ]
     },
     "execution_count": 13,
     "metadata": {},
     "output_type": "execute_result"
    }
   ],
   "source": [
    "# y_label 0~50, with truncate"
   ]
  },
  {
   "cell_type": "code",
   "execution_count": null,
   "metadata": {},
   "outputs": [],
   "source": [
    "# 参考：https://blog.csdn.net/DBC_121/article/details/107397232"
   ]
  },
  {
   "cell_type": "code",
   "execution_count": 54,
   "metadata": {},
   "outputs": [],
   "source": [
    "def norm_y(y):\n",
    "    return (y - np.mean(y)) / np.std(y), np.mean(y), np.std(y)"
   ]
  },
  {
   "cell_type": "code",
   "execution_count": 55,
   "metadata": {},
   "outputs": [],
   "source": [
    "def rebuild_y(y_norm, mean, std):\n",
    "    return mean + y_norm * std"
   ]
  },
  {
   "cell_type": "code",
   "execution_count": null,
   "metadata": {},
   "outputs": [],
   "source": [
    "def "
   ]
  },
  {
   "cell_type": "markdown",
   "metadata": {},
   "source": []
  },
  {
   "cell_type": "markdown",
   "metadata": {},
   "source": [
    "# Try model "
   ]
  },
  {
   "cell_type": "code",
   "execution_count": 15,
   "metadata": {},
   "outputs": [],
   "source": [
    "MODELS = {\n",
    "    \n",
    "}"
   ]
  },
  {
   "cell_type": "code",
   "execution_count": null,
   "metadata": {},
   "outputs": [],
   "source": [
    "#=== mse vs mae?"
   ]
  },
  {
   "cell_type": "code",
   "execution_count": null,
   "metadata": {},
   "outputs": [],
   "source": []
  },
  {
   "cell_type": "markdown",
   "metadata": {},
   "source": [
    "## model v1"
   ]
  },
  {
   "cell_type": "code",
   "execution_count": 53,
   "metadata": {},
   "outputs": [
    {
     "data": {
      "text/plain": [
       "[<tensorflow.python.keras.layers.core.Dense at 0x7fde687d3450>,\n",
       " <tensorflow.python.keras.layers.core.Dense at 0x7fde687d3b10>,\n",
       " <tensorflow.python.keras.layers.core.Dense at 0x7fde687d32d0>]"
      ]
     },
     "execution_count": 53,
     "metadata": {},
     "output_type": "execute_result"
    }
   ],
   "source": [
    "MODELS['v1_model'].layers"
   ]
  },
  {
   "cell_type": "code",
   "execution_count": 129,
   "metadata": {},
   "outputs": [],
   "source": [
    "layer1 = tf.keras.layers.Dense(64, activation='relu')\n",
    "layer2 = tf.keras.layers.Dense(64, activation='relu')\n",
    "layer3 = tf.keras.layers.Dense(1, activation=None)\n",
    "MODELS['v1_model'] = tf.keras.models.Sequential(\n",
    "    [layer1,layer2, layer3]\n",
    ")\n",
    "MODELS['v1_model'].compile(\n",
    "    optimizer='rmsprop', loss='mse', metrics=['mse']\n",
    ")"
   ]
  },
  {
   "cell_type": "code",
   "execution_count": 130,
   "metadata": {},
   "outputs": [
    {
     "name": "stdout",
     "output_type": "stream",
     "text": [
      "Epoch 1/30\n",
      "404/404 [==============================] - 0s 388us/sample - loss: 274.2815 - mean_squared_error: 274.2815\n",
      "Epoch 2/30\n",
      "404/404 [==============================] - 0s 39us/sample - loss: 2924.3604 - mean_squared_error: 2924.3604\n",
      "Epoch 3/30\n",
      "404/404 [==============================] - 0s 30us/sample - loss: 308.1938 - mean_squared_error: 308.1938\n",
      "Epoch 4/30\n",
      "404/404 [==============================] - 0s 17us/sample - loss: 107.4954 - mean_squared_error: 107.4954\n",
      "Epoch 5/30\n",
      "404/404 [==============================] - 0s 21us/sample - loss: 86.3494 - mean_squared_error: 86.3494\n",
      "Epoch 6/30\n",
      "404/404 [==============================] - 0s 35us/sample - loss: 81.2669 - mean_squared_error: 81.2669\n",
      "Epoch 7/30\n",
      "404/404 [==============================] - 0s 5us/sample - loss: 78.7421 - mean_squared_error: 78.7421\n",
      "Epoch 8/30\n",
      "404/404 [==============================] - 0s 29us/sample - loss: 77.0586 - mean_squared_error: 77.0586\n",
      "Epoch 9/30\n",
      "404/404 [==============================] - 0s 5us/sample - loss: 75.6435 - mean_squared_error: 75.6435\n",
      "Epoch 10/30\n",
      "404/404 [==============================] - 0s 37us/sample - loss: 74.5571 - mean_squared_error: 74.5571\n",
      "Epoch 11/30\n",
      "404/404 [==============================] - 0s 6us/sample - loss: 73.7292 - mean_squared_error: 73.7292\n",
      "Epoch 12/30\n",
      "404/404 [==============================] - 0s 5us/sample - loss: 73.0166 - mean_squared_error: 73.0166\n",
      "Epoch 13/30\n",
      "404/404 [==============================] - 0s 12us/sample - loss: 72.4047 - mean_squared_error: 72.4047\n",
      "Epoch 14/30\n",
      "404/404 [==============================] - 0s 11us/sample - loss: 71.8667 - mean_squared_error: 71.8667\n",
      "Epoch 15/30\n",
      "404/404 [==============================] - 0s 13us/sample - loss: 71.3621 - mean_squared_error: 71.3621\n",
      "Epoch 16/30\n",
      "404/404 [==============================] - 0s 10us/sample - loss: 70.8513 - mean_squared_error: 70.8513\n",
      "Epoch 17/30\n",
      "404/404 [==============================] - 0s 10us/sample - loss: 70.3542 - mean_squared_error: 70.3542\n",
      "Epoch 18/30\n",
      "404/404 [==============================] - 0s 10us/sample - loss: 69.9578 - mean_squared_error: 69.9578\n",
      "Epoch 19/30\n",
      "404/404 [==============================] - 0s 5us/sample - loss: 69.9554 - mean_squared_error: 69.9554\n",
      "Epoch 20/30\n",
      "404/404 [==============================] - 0s 5us/sample - loss: 71.6716 - mean_squared_error: 71.6716\n",
      "Epoch 21/30\n",
      "404/404 [==============================] - 0s 8us/sample - loss: 82.3541 - mean_squared_error: 82.3541\n",
      "Epoch 22/30\n",
      "404/404 [==============================] - 0s 7us/sample - loss: 141.3742 - mean_squared_error: 141.3742\n",
      "Epoch 23/30\n",
      "404/404 [==============================] - 0s 5us/sample - loss: 385.4286 - mean_squared_error: 385.4286\n",
      "Epoch 24/30\n",
      "404/404 [==============================] - 0s 6us/sample - loss: 689.1019 - mean_squared_error: 689.1019\n",
      "Epoch 25/30\n",
      "404/404 [==============================] - 0s 5us/sample - loss: 491.7889 - mean_squared_error: 491.7889\n",
      "Epoch 26/30\n",
      "404/404 [==============================] - 0s 11us/sample - loss: 206.0197 - mean_squared_error: 206.0197\n",
      "Epoch 27/30\n",
      "404/404 [==============================] - 0s 5us/sample - loss: 115.9179 - mean_squared_error: 115.9179\n",
      "Epoch 28/30\n",
      "404/404 [==============================] - 0s 5us/sample - loss: 86.9762 - mean_squared_error: 86.9762\n",
      "Epoch 29/30\n",
      "404/404 [==============================] - 0s 5us/sample - loss: 77.3199 - mean_squared_error: 77.3199\n",
      "Epoch 30/30\n",
      "404/404 [==============================] - 0s 7us/sample - loss: 73.3587 - mean_squared_error: 73.3587\n"
     ]
    },
    {
     "data": {
      "text/plain": [
       "<tensorflow.python.keras.callbacks.History at 0x7fde5a562750>"
      ]
     },
     "execution_count": 130,
     "metadata": {},
     "output_type": "execute_result"
    }
   ],
   "source": [
    "MODELS['v1_model'].fit(X, y_label, epochs=30, batch_size=404)"
   ]
  },
  {
   "cell_type": "code",
   "execution_count": 99,
   "metadata": {},
   "outputs": [],
   "source": [
    "y_pred = np.sum(MODELS['v1_model'].predict(X), axis=1)"
   ]
  },
  {
   "cell_type": "code",
   "execution_count": 100,
   "metadata": {},
   "outputs": [
    {
     "data": {
      "text/plain": [
       "(array([ 5.,  0.,  0.,  1.,  2.,  0.,  1.,  2.,  1.,  0.,  2.,  0.,  2.,\n",
       "         4.,  3.,  0.,  3.,  4.,  4.,  1.,  4.,  9., 12., 15., 13., 19.,\n",
       "        13., 25., 22., 38., 52., 39., 33., 31., 18., 16.,  5.,  3.,  1.,\n",
       "         1.]), array([-38.15318966, -36.95142692, -35.74966418, -34.54790144,\n",
       "        -33.34613871, -32.14437597, -30.94261323, -29.74085049,\n",
       "        -28.53908775, -27.33732502, -26.13556228, -24.93379954,\n",
       "        -23.7320368 , -22.53027406, -21.32851132, -20.12674859,\n",
       "        -18.92498585, -17.72322311, -16.52146037, -15.31969763,\n",
       "        -14.11793489, -12.91617216, -11.71440942, -10.51264668,\n",
       "         -9.31088394,  -8.1091212 ,  -6.90735847,  -5.70559573,\n",
       "         -4.50383299,  -3.30207025,  -2.10030751,  -0.89854477,\n",
       "          0.30321796,   1.5049807 ,   2.70674344,   3.90850618,\n",
       "          5.11026892,   6.31203166,   7.51379439,   8.71555713,\n",
       "          9.91731987]), <a list of 40 Patch objects>)"
      ]
     },
     "execution_count": 100,
     "metadata": {},
     "output_type": "execute_result"
    },
    {
     "data": {
      "image/png": "[encoded data removed]",
      "text/plain": [
       "<Figure size 432x288 with 1 Axes>"
      ]
     },
     "metadata": {
      "needs_background": "light"
     },
     "output_type": "display_data"
    }
   ],
   "source": [
    "plt.hist(y_pred - y_label, bins=40, normed=0, facecolor=\"blue\", edgecolor=\"black\", alpha=0.7)"
   ]
  },
  {
   "cell_type": "code",
   "execution_count": null,
   "metadata": {},
   "outputs": [],
   "source": []
  },
  {
   "cell_type": "markdown",
   "metadata": {},
   "source": [
    "## model_v2 --> norm"
   ]
  },
  {
   "cell_type": "code",
   "execution_count": 80,
   "metadata": {},
   "outputs": [],
   "source": [
    "layer1 = tf.keras.layers.Dense(64, activation='relu')\n",
    "layer2 = tf.keras.layers.Dense(64, activation='relu')\n",
    "layer3 = tf.keras.layers.Dense(1, activation=None)\n",
    "MODELS['v2_model'] = tf.keras.models.Sequential(\n",
    "    [layer1,layer2, layer3]\n",
    ")\n",
    "MODELS['v2_model'].compile(\n",
    "    optimizer='rmsprop', loss='mse', metrics=['mae']\n",
    ")"
   ]
  },
  {
   "cell_type": "code",
   "execution_count": 81,
   "metadata": {},
   "outputs": [
    {
     "name": "stdout",
     "output_type": "stream",
     "text": [
      "Epoch 1/10\n",
      "404/404 [==============================] - 0s 288us/sample - loss: 511.6833 - mean_absolute_error: 21.3793\n",
      "Epoch 2/10\n",
      "404/404 [==============================] - 0s 5us/sample - loss: 526.5670 - mean_absolute_error: 21.5266\n",
      "Epoch 3/10\n",
      "404/404 [==============================] - 0s 4us/sample - loss: 97.0283 - mean_absolute_error: 8.5712\n",
      "Epoch 4/10\n",
      "404/404 [==============================] - 0s 5us/sample - loss: 29.4481 - mean_absolute_error: 3.9816\n",
      "Epoch 5/10\n",
      "404/404 [==============================] - 0s 6us/sample - loss: 15.9305 - mean_absolute_error: 3.0674\n",
      "Epoch 6/10\n",
      "404/404 [==============================] - 0s 6us/sample - loss: 11.4066 - mean_absolute_error: 2.5313\n",
      "Epoch 7/10\n",
      "404/404 [==============================] - 0s 6us/sample - loss: 9.0002 - mean_absolute_error: 2.3086\n",
      "Epoch 8/10\n",
      "404/404 [==============================] - 0s 6us/sample - loss: 7.4163 - mean_absolute_error: 2.0512\n",
      "Epoch 9/10\n",
      "404/404 [==============================] - 0s 5us/sample - loss: 6.3089 - mean_absolute_error: 1.9192\n",
      "Epoch 10/10\n",
      "404/404 [==============================] - 0s 5us/sample - loss: 5.4977 - mean_absolute_error: 1.7622\n"
     ]
    },
    {
     "data": {
      "text/plain": [
       "<tensorflow.python.keras.callbacks.History at 0x7fde406c05d0>"
      ]
     },
     "execution_count": 81,
     "metadata": {},
     "output_type": "execute_result"
    }
   ],
   "source": [
    "y_norm, mean, std = norm_y(y_label)\n",
    "MODELS['v2_model'].fit(X, y_norm, epochs=10, batch_size=404)"
   ]
  },
  {
   "cell_type": "code",
   "execution_count": 82,
   "metadata": {},
   "outputs": [
    {
     "data": {
      "text/plain": [
       "array([-7.82152603e-01,  2.16380844e+00,  3.00085272e+00, -1.40781011e-01,\n",
       "       -5.10384979e-01, -4.23419340e-01, -1.20611010e+00, -7.38669784e-01,\n",
       "       -7.38669784e-01, -8.69118243e-01, -1.11914446e+00, -4.88643569e-01,\n",
       "        7.66330884e-02, -2.71229470e-01, -7.27799079e-01, -1.47787772e+00,\n",
       "        3.00085272e+00,  1.14088587e-02,  1.85340138e-01,  5.54944107e-01,\n",
       "       -1.24959292e+00,  9.13677370e-01,  1.14196217e+00,  1.74469433e-01,\n",
       "       -4.23419340e-01, -9.88695998e-01,  5.48916785e-02,  1.33763486e+00,\n",
       "       -6.29962734e-01, -5.32126389e-01, -1.03325512e-02, -6.84316259e-01,\n",
       "       -8.14764718e-01,  7.66330884e-02,  1.35937627e+00,  2.83176483e-01,\n",
       "       -9.23471768e-01, -1.01043741e+00, -2.16875945e-01, -2.60358765e-01,\n",
       "       -7.82152603e-01,  2.50564368e-01, -2.12032562e-02, -6.19092029e-01,\n",
       "       -1.05392023e+00, -7.38669784e-01, -4.34290045e-01, -1.51651716e-01,\n",
       "        8.37582436e-01, -7.93023308e-01, -4.01677930e-01, -1.39091208e+00,\n",
       "        9.89772305e-01,  2.61435073e-01, -3.58195110e-01, -4.29446661e-02,\n",
       "       -8.58247538e-01, -1.23872221e+00,  1.04412583e+00,  7.61487501e-01,\n",
       "       -2.27746650e-01,  2.17952253e-01, -8.47376833e-01, -3.14712290e-01,\n",
       "       -9.01730358e-01, -8.79988948e-01, -7.38669784e-01, -1.29307574e+00,\n",
       "       -1.74964534e+00, -3.36453700e-01, -3.36453700e-01, -9.77825293e-01,\n",
       "        1.52243685e+00, -4.99514274e-01, -9.66954588e-01, -6.40833439e-01,\n",
       "       -1.53223125e+00, -8.79988948e-01, -6.95186964e-01, -9.77825293e-01,\n",
       "        6.74521861e-01,  2.29425690e+00, -2.38617355e-01, -4.29446661e-02,\n",
       "        6.57623835e-02, -1.84263831e-01, -1.07566164e+00,  2.83779215e+00,\n",
       "       -8.47376833e-01, -9.77825293e-01,  1.41857318e-01,  3.00085272e+00,\n",
       "       -7.55567810e-02,  1.89204082e+00,  1.77246306e+00, -2.12032562e-02,\n",
       "        1.35937627e+00,  1.14088587e-02,  9.46289485e-01,  6.85392566e-01,\n",
       "        2.56602452e+00,  2.09858421e+00, -1.51651716e-01,  4.57107762e-01,\n",
       "       -8.03894013e-01,  2.17952253e-01, -9.88695998e-01, -1.29910306e-01,\n",
       "       -1.16262728e+00, -7.55567810e-02, -3.25582995e-01,  3.00085272e+00,\n",
       "        4.40209735e-02, -2.92970880e-01,  2.50564368e-01,  1.50069544e+00,\n",
       "       -8.90859653e-01, -3.79936520e-01, -4.45160750e-01, -1.95134536e-01,\n",
       "        2.39693663e-01, -4.56031455e-01, -1.48874843e+00,  2.34861042e+00,\n",
       "       -1.30394644e+00, -9.99566703e-01, -1.29910306e-01,  1.58766108e+00,\n",
       "        9.02806665e-01,  5.48916785e-02, -2.60358765e-01, -3.36453700e-01,\n",
       "        1.01151371e+00,  1.04412583e+00,  7.66330884e-02, -3.90807225e-01,\n",
       "       -1.24959292e+00,  3.00085272e+00, -3.03841585e-01, -1.89096451e+00,\n",
       "       -8.69118243e-01, -2.82100175e-01, -9.34342473e-01, -3.03841585e-01,\n",
       "        1.63598728e-01,  2.28822958e-01,  2.83176483e-01, -2.71229470e-01,\n",
       "       -5.64738504e-01,  2.39693663e-01, -9.66954588e-01,  4.57107762e-01,\n",
       "       -1.08168896e-01, -1.14088587e+00,  2.22795636e-02, -3.03841585e-01,\n",
       "       -1.51048984e+00,  1.41857318e-01,  7.66330884e-02,  5.38153711e-04,\n",
       "       -2.06005241e-01,  1.30986613e-01, -4.34290045e-01,  1.39198839e+00,\n",
       "        7.66330884e-02,  5.98426926e-01, -1.95134536e-01,  1.41857318e-01,\n",
       "        6.09297631e-01, -9.56083883e-01,  5.11461287e-01,  1.30986613e-01,\n",
       "       -1.95134536e-01, -4.56031455e-01, -7.55567810e-02, -5.75609209e-01,\n",
       "       -1.52136054e+00,  3.15788598e-01, -9.34342473e-01, -2.12032562e-02,\n",
       "       -4.34290045e-01, -1.84263831e-01,  1.00064301e+00,  8.81065255e-01,\n",
       "       -2.27746650e-01, -1.47787772e+00, -3.47324405e-01, -3.25582995e-01,\n",
       "        7.66330884e-02,  6.57623835e-02, -8.25635423e-01,  2.87040426e+00,\n",
       "        2.22795636e-02,  1.19631570e+00, -1.40781011e-01, -9.56083883e-01,\n",
       "        1.06586724e+00, -1.01043741e+00,  1.09245203e-01, -3.79936520e-01,\n",
       "        1.63598728e-01, -1.15175657e+00,  9.83744983e-02,  4.40209735e-02,\n",
       "       -3.03841585e-01, -6.19092029e-01, -9.77825293e-01, -2.12032562e-02,\n",
       "       -2.16875945e-01, -6.46860760e-02,  4.35366352e-01, -8.14764718e-01,\n",
       "        1.85340138e-01,  1.52728023e-01, -1.09740305e+00,  7.28875386e-01,\n",
       "       -1.51651716e-01, -3.14712290e-01,  9.83744983e-02,  1.52728023e-01,\n",
       "       -4.99514274e-01, -1.18436869e+00, -7.55567810e-02, -2.71229470e-01,\n",
       "        2.83176483e-01,  1.19631570e+00,  6.63651156e-01, -1.08168896e-01,\n",
       "        2.07081548e-01,  5.54944107e-01,  1.16370358e+00, -6.73445554e-01,\n",
       "        9.83744983e-02,  2.81605074e+00,  5.48916785e-02,  4.40209735e-02,\n",
       "       -1.01043741e+00, -1.05392023e+00,  2.22795636e-02, -8.03894013e-01,\n",
       "       -7.71281898e-01, -1.29307574e+00,  1.74469433e-01, -4.23419340e-01,\n",
       "       -7.55567810e-02, -3.14712290e-01,  1.17457429e+00,  8.75037934e-02,\n",
       "       -1.89096451e+00, -3.58195110e-01, -1.05392023e+00, -1.03325512e-02,\n",
       "       -1.32568785e+00, -9.23471768e-01, -6.62574849e-01, -5.86479914e-01,\n",
       "       -2.49488060e-01,  8.15841026e-01, -5.64738504e-01,  1.62027319e+00,\n",
       "        2.50080029e+00, -4.99514274e-01,  8.75037934e-02,  7.18004681e-01,\n",
       "       -4.29446661e-02, -4.77772865e-01, -5.42997094e-01,  1.32676416e+00,\n",
       "       -2.49488060e-01,  2.83176483e-01, -7.38669784e-01,  2.61435073e-01,\n",
       "        6.31039041e-01, -1.29910306e-01, -1.08168896e-01,  1.52728023e-01,\n",
       "        9.35418780e-01,  4.13624942e-01, -5.42997094e-01,  1.68549742e+00,\n",
       "       -5.32126389e-01, -2.60358765e-01, -1.53223125e+00,  1.63598728e-01,\n",
       "       -1.52136054e+00, -9.34342473e-01, -1.65180900e+00, -1.16262728e+00,\n",
       "       -5.75609209e-01, -8.64274860e-02,  3.00085272e+00, -6.84316259e-01,\n",
       "       -2.16875945e-01, -1.95134536e-01, -1.08168896e-01, -1.95134536e-01,\n",
       "        1.53330755e+00, -1.51048984e+00,  2.61435073e-01, -1.26046362e+00,\n",
       "       -5.38153711e-02, -5.53867799e-01, -3.79936520e-01,  1.50069544e+00,\n",
       "       -8.14764718e-01, -4.56031455e-01,  1.18544499e+00, -6.46860760e-02,\n",
       "       -2.92970880e-01,  1.00064301e+00,  2.61435073e-01, -3.25582995e-01,\n",
       "        4.40209735e-02, -1.61919689e+00,  2.43557606e+00, -6.08221324e-01,\n",
       "       -4.01677930e-01,  3.00085272e+00,  3.00085272e+00, -3.14712290e-01,\n",
       "       -2.49488060e-01,  3.00085272e+00, -5.64738504e-01, -1.73393126e-01,\n",
       "       -3.36453700e-01,  2.05510139e+00, -2.16875945e-01, -2.06005241e-01,\n",
       "       -9.34342473e-01, -6.40833439e-01,  1.63598728e-01, -1.95134536e-01,\n",
       "        9.89772305e-01,  9.83744983e-02, -6.08221324e-01, -9.12601063e-01,\n",
       "        1.23979852e+00,  1.48982473e+00, -1.04304952e+00, -4.45160750e-01,\n",
       "       -4.01677930e-01, -3.58195110e-01,  7.18004681e-01,  8.37582436e-01,\n",
       "        3.00085272e+00,  3.00085272e+00, -4.29446661e-02, -1.14088587e+00,\n",
       "        1.65288531e+00,  3.00085272e+00,  3.31502686e-02, -1.73393126e-01,\n",
       "        1.20115908e-01,  5.98426926e-01,  3.00085272e+00, -3.36453700e-01,\n",
       "        1.63598728e-01,  2.22795636e-02, -7.82152603e-01, -7.55567810e-02,\n",
       "       -3.47324405e-01,  2.32686902e+00, -2.27746650e-01,  1.17457429e+00,\n",
       "       -2.71229470e-01,  1.14088587e-02,  1.12022076e+00, -4.29446661e-02,\n",
       "       -5.75609209e-01, -3.69065815e-01, -8.03894013e-01, -6.84316259e-01,\n",
       "        2.94047188e-01,  1.41857318e-01,  6.85392566e-01,  1.60940249e+00,\n",
       "        2.22795636e-02, -6.51704144e-01,  2.83176483e-01,  8.04970321e-01,\n",
       "       -3.20739612e-02, -5.42997094e-01, -4.66902160e-01,  8.59323846e-01,\n",
       "       -5.32126389e-01,  2.50564368e-01, -1.06479093e+00,  4.46237057e-01,\n",
       "        6.85392566e-01, -9.88695998e-01, -1.30394644e+00,  2.17952253e-01,\n",
       "        6.57623835e-02, -2.60358765e-01, -4.99514274e-01, -1.67355041e+00,\n",
       "       -1.15175657e+00,  2.17952253e-01, -9.34342473e-01, -3.25582995e-01,\n",
       "        3.04917893e-01, -3.25582995e-01, -3.25582995e-01,  7.28875386e-01])"
      ]
     },
     "execution_count": 82,
     "metadata": {},
     "output_type": "execute_result"
    }
   ],
   "source": [
    "y_norm"
   ]
  },
  {
   "cell_type": "code",
   "execution_count": 83,
   "metadata": {},
   "outputs": [],
   "source": [
    "y_pred_v2 = rebuild_y(np.sum(MODELS['v2_model'].predict(X),axis=1), mean, std)"
   ]
  },
  {
   "cell_type": "code",
   "execution_count": 84,
   "metadata": {},
   "outputs": [
    {
     "data": {
      "text/plain": [
       "array([ 39.76213   ,  19.813452  ,  -0.08294106,  27.93309   ,\n",
       "         0.7704506 ,  32.38533   ,   7.307618  ,  39.64661   ,\n",
       "       -19.310276  ,  31.373814  ], dtype=float32)"
      ]
     },
     "execution_count": 84,
     "metadata": {},
     "output_type": "execute_result"
    }
   ],
   "source": [
    "y_pred_v2[0:10]"
   ]
  },
  {
   "cell_type": "code",
   "execution_count": 86,
   "metadata": {},
   "outputs": [
    {
     "data": {
      "text/plain": [
       "array([[21.673225  ],\n",
       "       [26.339945  ],\n",
       "       [17.741814  ],\n",
       "       [26.666695  ],\n",
       "       [18.567879  ],\n",
       "       [22.426956  ],\n",
       "       [14.687801  ],\n",
       "       [20.471104  ],\n",
       "       [-0.92636085],\n",
       "       [16.544323  ]], dtype=float32)"
      ]
     },
     "execution_count": 86,
     "metadata": {},
     "output_type": "execute_result"
    }
   ],
   "source": [
    "MODELS['v1_model'].predict(X)[0:10]"
   ]
  },
  {
   "cell_type": "code",
   "execution_count": 85,
   "metadata": {},
   "outputs": [
    {
     "data": {
      "text/plain": [
       "array([15.2, 42.3, 50. , 21.1, 17.7, 18.5, 11.3, 15.6, 15.6, 14.4, 12.1,\n",
       "       17.9, 23.1, 19.9, 15.7,  8.8, 50. , 22.5, 24.1, 27.5, 10.9, 30.8,\n",
       "       32.9, 24. , 18.5, 13.3, 22.9, 34.7, 16.6, 17.5, 22.3, 16.1, 14.9,\n",
       "       23.1, 34.9, 25. , 13.9, 13.1, 20.4, 20. , 15.2, 24.7, 22.2, 16.7,\n",
       "       12.7, 15.6, 18.4, 21. , 30.1, 15.1, 18.7,  9.6, 31.5, 24.8, 19.1,\n",
       "       22. , 14.5, 11. , 32. , 29.4, 20.3, 24.4, 14.6, 19.5, 14.1, 14.3,\n",
       "       15.6, 10.5,  6.3, 19.3, 19.3, 13.4, 36.4, 17.8, 13.5, 16.5,  8.3,\n",
       "       14.3, 16. , 13.4, 28.6, 43.5, 20.2, 22. , 23. , 20.7, 12.5, 48.5,\n",
       "       14.6, 13.4, 23.7, 50. , 21.7, 39.8, 38.7, 22.2, 34.9, 22.5, 31.1,\n",
       "       28.7, 46. , 41.7, 21. , 26.6, 15. , 24.4, 13.3, 21.2, 11.7, 21.7,\n",
       "       19.4, 50. , 22.8, 19.7, 24.7, 36.2, 14.2, 18.9, 18.3, 20.6, 24.6,\n",
       "       18.2,  8.7, 44. , 10.4, 13.2, 21.2, 37. , 30.7, 22.9, 20. , 19.3,\n",
       "       31.7, 32. , 23.1, 18.8, 10.9, 50. , 19.6,  5. , 14.4, 19.8, 13.8,\n",
       "       19.6, 23.9, 24.5, 25. , 19.9, 17.2, 24.6, 13.5, 26.6, 21.4, 11.9,\n",
       "       22.6, 19.6,  8.5, 23.7, 23.1, 22.4, 20.5, 23.6, 18.4, 35.2, 23.1,\n",
       "       27.9, 20.6, 23.7, 28. , 13.6, 27.1, 23.6, 20.6, 18.2, 21.7, 17.1,\n",
       "        8.4, 25.3, 13.8, 22.2, 18.4, 20.7, 31.6, 30.5, 20.3,  8.8, 19.2,\n",
       "       19.4, 23.1, 23. , 14.8, 48.8, 22.6, 33.4, 21.1, 13.6, 32.2, 13.1,\n",
       "       23.4, 18.9, 23.9, 11.8, 23.3, 22.8, 19.6, 16.7, 13.4, 22.2, 20.4,\n",
       "       21.8, 26.4, 14.9, 24.1, 23.8, 12.3, 29.1, 21. , 19.5, 23.3, 23.8,\n",
       "       17.8, 11.5, 21.7, 19.9, 25. , 33.4, 28.5, 21.4, 24.3, 27.5, 33.1,\n",
       "       16.2, 23.3, 48.3, 22.9, 22.8, 13.1, 12.7, 22.6, 15. , 15.3, 10.5,\n",
       "       24. , 18.5, 21.7, 19.5, 33.2, 23.2,  5. , 19.1, 12.7, 22.3, 10.2,\n",
       "       13.9, 16.3, 17. , 20.1, 29.9, 17.2, 37.3, 45.4, 17.8, 23.2, 29. ,\n",
       "       22. , 18. , 17.4, 34.6, 20.1, 25. , 15.6, 24.8, 28.2, 21.2, 21.4,\n",
       "       23.8, 31. , 26.2, 17.4, 37.9, 17.5, 20. ,  8.3, 23.9,  8.4, 13.8,\n",
       "        7.2, 11.7, 17.1, 21.6, 50. , 16.1, 20.4, 20.6, 21.4, 20.6, 36.5,\n",
       "        8.5, 24.8, 10.8, 21.9, 17.3, 18.9, 36.2, 14.9, 18.2, 33.3, 21.8,\n",
       "       19.7, 31.6, 24.8, 19.4, 22.8,  7.5, 44.8, 16.8, 18.7, 50. , 50. ,\n",
       "       19.5, 20.1, 50. , 17.2, 20.8, 19.3, 41.3, 20.4, 20.5, 13.8, 16.5,\n",
       "       23.9, 20.6, 31.5, 23.3, 16.8, 14. , 33.8, 36.1, 12.8, 18.3, 18.7,\n",
       "       19.1, 29. , 30.1, 50. , 50. , 22. , 11.9, 37.6, 50. , 22.7, 20.8,\n",
       "       23.5, 27.9, 50. , 19.3, 23.9, 22.6, 15.2, 21.7, 19.2, 43.8, 20.3,\n",
       "       33.2, 19.9, 22.5, 32.7, 22. , 17.1, 19. , 15. , 16.1, 25.1, 23.7,\n",
       "       28.7, 37.2, 22.6, 16.4, 25. , 29.8, 22.1, 17.4, 18.1, 30.3, 17.5,\n",
       "       24.7, 12.6, 26.5, 28.7, 13.3, 10.4, 24.4, 23. , 20. , 17.8,  7. ,\n",
       "       11.8, 24.4, 13.8, 19.4, 25.2, 19.4, 19.4, 29.1])"
      ]
     },
     "execution_count": 85,
     "metadata": {},
     "output_type": "execute_result"
    }
   ],
   "source": [
    "y_label"
   ]
  },
  {
   "cell_type": "code",
   "execution_count": null,
   "metadata": {},
   "outputs": [],
   "source": []
  },
  {
   "cell_type": "markdown",
   "metadata": {},
   "source": [
    "##  Model v1 -> dense dim."
   ]
  },
  {
   "attachments": {},
   "cell_type": "markdown",
   "metadata": {},
   "source": [
    "- dense_dim 的扩充是有用的"
   ]
  },
  {
   "cell_type": "code",
   "execution_count": null,
   "metadata": {},
   "outputs": [],
   "source": []
  },
  {
   "cell_type": "code",
   "execution_count": 124,
   "metadata": {},
   "outputs": [],
   "source": [
    "layer1 = tf.keras.layers.Dense(16, activation='relu')\n",
    "layer2 = tf.keras.layers.Dense(16, activation='relu')\n",
    "layer3 = tf.keras.layers.Dense(1, activation=None)\n",
    "MODELS['v1_2_model'] = tf.keras.models.Sequential(\n",
    "    [layer1,layer2, layer3]\n",
    ")\n",
    "MODELS['v1_2_model'].compile(\n",
    "    optimizer='rmsprop', loss='mse', metrics=['mae']\n",
    ")"
   ]
  },
  {
   "cell_type": "code",
   "execution_count": 126,
   "metadata": {},
   "outputs": [
    {
     "name": "stdout",
     "output_type": "stream",
     "text": [
      "Epoch 1/10\n",
      "404/404 [==============================] - 0s 553us/sample - loss: 1018.4915 - mean_absolute_error: 29.6330\n",
      "Epoch 2/10\n",
      "404/404 [==============================] - 0s 27us/sample - loss: 501.0937 - mean_absolute_error: 17.2659\n",
      "Epoch 3/10\n",
      "404/404 [==============================] - 0s 10us/sample - loss: 371.9187 - mean_absolute_error: 13.4106\n",
      "Epoch 4/10\n",
      "404/404 [==============================] - 0s 10us/sample - loss: 311.6383 - mean_absolute_error: 11.7199\n",
      "Epoch 5/10\n",
      "404/404 [==============================] - 0s 5us/sample - loss: 272.0092 - mean_absolute_error: 10.7896\n",
      "Epoch 6/10\n",
      "404/404 [==============================] - 0s 13us/sample - loss: 242.2030 - mean_absolute_error: 10.1858\n",
      "Epoch 7/10\n",
      "404/404 [==============================] - 0s 7us/sample - loss: 218.5015 - mean_absolute_error: 9.7242\n",
      "Epoch 8/10\n",
      "404/404 [==============================] - 0s 16us/sample - loss: 198.9569 - mean_absolute_error: 9.3636\n",
      "Epoch 9/10\n",
      "404/404 [==============================] - 0s 11us/sample - loss: 182.5017 - mean_absolute_error: 9.0573\n",
      "Epoch 10/10\n",
      "404/404 [==============================] - 0s 7us/sample - loss: 168.3740 - mean_absolute_error: 8.7995\n"
     ]
    },
    {
     "data": {
      "text/plain": [
       "<tensorflow.python.keras.callbacks.History at 0x7fde68de7d90>"
      ]
     },
     "execution_count": 126,
     "metadata": {},
     "output_type": "execute_result"
    }
   ],
   "source": [
    "MODELS['v1_2_model'].fit(X, y_label, epochs=10, batch_size=404)"
   ]
  },
  {
   "cell_type": "code",
   "execution_count": null,
   "metadata": {},
   "outputs": [],
   "source": []
  },
  {
   "cell_type": "markdown",
   "metadata": {},
   "source": [
    "## Model v3 --> wce."
   ]
  },
  {
   "cell_type": "code",
   "execution_count": 112,
   "metadata": {},
   "outputs": [
    {
     "data": {
      "text/plain": [
       "(404, 13)"
      ]
     },
     "execution_count": 112,
     "metadata": {},
     "output_type": "execute_result"
    }
   ],
   "source": [
    "X.shape\n",
    "# shuffle, weights 的问题"
   ]
  },
  {
   "cell_type": "code",
   "execution_count": 146,
   "metadata": {},
   "outputs": [],
   "source": [
    "X_wce = np.concatenate([X, X],axis=0)\n",
    "y_wce = np.concatenate([np.ones_like(y_label), np.zeros_like(y_label)],axis=0)\n",
    "wce_weights = np.concatenate([y_label, np.ones_like(y_label)],axis=0)"
   ]
  },
  {
   "cell_type": "code",
   "execution_count": 155,
   "metadata": {},
   "outputs": [],
   "source": [
    "wce_weights = y_label"
   ]
  },
  {
   "cell_type": "code",
   "execution_count": 158,
   "metadata": {},
   "outputs": [
    {
     "data": {
      "text/plain": [
       "(404,)"
      ]
     },
     "execution_count": 158,
     "metadata": {},
     "output_type": "execute_result"
    }
   ],
   "source": [
    "wce_weights.shape"
   ]
  },
  {
   "cell_type": "code",
   "execution_count": null,
   "metadata": {},
   "outputs": [],
   "source": []
  },
  {
   "cell_type": "code",
   "execution_count": 154,
   "metadata": {},
   "outputs": [
    {
     "data": {
      "text/plain": [
       "array([[ 70.032845],\n",
       "       [ 58.858116],\n",
       "       [100.93341 ],\n",
       "       [ 58.389824],\n",
       "       [ 99.36967 ],\n",
       "       [ 65.399895],\n",
       "       [101.18221 ],\n",
       "       [ 77.08362 ],\n",
       "       [ 71.42772 ],\n",
       "       [ 81.56604 ],\n",
       "       [100.67435 ],\n",
       "       [ 97.058235],\n",
       "       [ 67.706635],\n",
       "       [ 99.059555],\n",
       "       [ 62.86651 ],\n",
       "       [ 91.10939 ],\n",
       "       [100.96207 ],\n",
       "       [ 58.490105],\n",
       "       [ 63.698883],\n",
       "       [ 72.56986 ],\n",
       "       [ 90.38244 ],\n",
       "       [ 58.122936],\n",
       "       [ 64.135254],\n",
       "       [ 62.92558 ],\n",
       "       [ 61.629074],\n",
       "       [101.032906],\n",
       "       [ 64.29515 ],\n",
       "       [ 62.04339 ],\n",
       "       [ 68.428986],\n",
       "       [ 71.35655 ],\n",
       "       [ 61.372692],\n",
       "       [ 99.705894],\n",
       "       [ 98.70615 ],\n",
       "       [ 57.069324],\n",
       "       [ 57.034378],\n",
       "       [ 59.64066 ],\n",
       "       [ 62.305866],\n",
       "       [ 67.42414 ],\n",
       "       [ 61.464203],\n",
       "       [ 71.6037  ],\n",
       "       [104.86597 ],\n",
       "       [ 53.380825],\n",
       "       [ 58.10491 ],\n",
       "       [100.8593  ],\n",
       "       [ 99.94385 ],\n",
       "       [ 70.56508 ],\n",
       "       [ 81.133545],\n",
       "       [ 68.17265 ],\n",
       "       [ 68.44269 ],\n",
       "       [100.77992 ],\n",
       "       [ 61.738434],\n",
       "       [ 95.31035 ],\n",
       "       [ 65.20774 ],\n",
       "       [ 54.4958  ],\n",
       "       [ 74.9653  ],\n",
       "       [ 63.625393],\n",
       "       [ 94.67653 ],\n",
       "       [ 93.64589 ],\n",
       "       [ 59.814243],\n",
       "       [ 56.558456],\n",
       "       [ 64.5031  ],\n",
       "       [ 62.100765],\n",
       "       [100.10808 ],\n",
       "       [ 74.24967 ],\n",
       "       [ 95.11357 ],\n",
       "       [ 95.53619 ],\n",
       "       [ 76.63034 ],\n",
       "       [ 98.64709 ],\n",
       "       [ 95.7666  ],\n",
       "       [ 67.502884],\n",
       "       [ 57.65751 ],\n",
       "       [ 96.86135 ],\n",
       "       [ 62.18036 ],\n",
       "       [ 67.43774 ],\n",
       "       [ 61.838596],\n",
       "       [ 70.38186 ],\n",
       "       [ 96.00149 ],\n",
       "       [ 81.16078 ],\n",
       "       [ 68.85212 ],\n",
       "       [ 77.03762 ],\n",
       "       [ 58.298344],\n",
       "       [ 59.07585 ],\n",
       "       [ 52.09687 ],\n",
       "       [ 57.698574],\n",
       "       [ 81.66846 ],\n",
       "       [ 58.09354 ],\n",
       "       [100.76537 ],\n",
       "       [ 58.866486],\n",
       "       [ 76.06311 ],\n",
       "       [ 95.01172 ],\n",
       "       [ 96.75066 ],\n",
       "       [ 58.354637],\n",
       "       [ 60.253254],\n",
       "       [ 62.724037],\n",
       "       [ 65.399506],\n",
       "       [ 59.498905],\n",
       "       [ 64.78516 ],\n",
       "       [ 58.989285],\n",
       "       [ 53.827606],\n",
       "       [ 60.638577],\n",
       "       [ 57.296806],\n",
       "       [ 65.35811 ],\n",
       "       [ 63.224308],\n",
       "       [ 51.685177],\n",
       "       [ 92.34387 ],\n",
       "       [ 54.337124],\n",
       "       [101.25493 ],\n",
       "       [ 57.69363 ],\n",
       "       [ 91.84086 ],\n",
       "       [ 68.41192 ],\n",
       "       [ 74.09491 ],\n",
       "       [ 76.56527 ],\n",
       "       [ 75.89034 ],\n",
       "       [ 70.964294],\n",
       "       [ 62.38311 ],\n",
       "       [ 60.378944],\n",
       "       [100.05151 ],\n",
       "       [ 67.45041 ],\n",
       "       [ 74.05052 ],\n",
       "       [ 59.39644 ],\n",
       "       [ 64.85928 ],\n",
       "       [ 65.333855],\n",
       "       [ 97.03989 ],\n",
       "       [ 59.220406],\n",
       "       [ 94.069084],\n",
       "       [ 58.278473],\n",
       "       [ 68.370026],\n",
       "       [ 60.76185 ],\n",
       "       [ 64.262825],\n",
       "       [ 61.53839 ],\n",
       "       [ 57.47767 ],\n",
       "       [ 72.16457 ],\n",
       "       [ 65.019905],\n",
       "       [ 65.155014],\n",
       "       [ 61.95637 ],\n",
       "       [ 65.78365 ],\n",
       "       [100.645584],\n",
       "       [ 65.69394 ],\n",
       "       [ 60.57746 ],\n",
       "       [ 96.58661 ],\n",
       "       [ 66.57795 ],\n",
       "       [ 75.67335 ],\n",
       "       [ 99.910385],\n",
       "       [ 82.1455  ],\n",
       "       [ 69.911125],\n",
       "       [ 61.054153],\n",
       "       [ 59.760273],\n",
       "       [ 98.61374 ],\n",
       "       [ 96.664764],\n",
       "       [ 54.478905],\n",
       "       [ 93.67607 ],\n",
       "       [ 59.04679 ],\n",
       "       [ 63.287964],\n",
       "       [ 67.98151 ],\n",
       "       [ 56.1389  ],\n",
       "       [ 75.01925 ],\n",
       "       [ 95.44329 ],\n",
       "       [ 52.668804],\n",
       "       [ 97.76605 ],\n",
       "       [ 61.139103],\n",
       "       [ 67.6776  ],\n",
       "       [ 67.17908 ],\n",
       "       [ 70.35027 ],\n",
       "       [ 60.51098 ],\n",
       "       [ 62.965145],\n",
       "       [100.263336],\n",
       "       [ 58.61896 ],\n",
       "       [ 50.117218],\n",
       "       [ 57.813187],\n",
       "       [106.00024 ],\n",
       "       [ 61.67092 ],\n",
       "       [ 66.97993 ],\n",
       "       [ 92.19719 ],\n",
       "       [ 60.286392],\n",
       "       [ 57.71897 ],\n",
       "       [ 82.018845],\n",
       "       [ 93.020096],\n",
       "       [ 51.897877],\n",
       "       [ 72.00206 ],\n",
       "       [ 64.82285 ],\n",
       "       [101.57967 ],\n",
       "       [ 61.779884],\n",
       "       [ 65.20684 ],\n",
       "       [ 63.0918  ],\n",
       "       [ 65.43973 ],\n",
       "       [ 99.38504 ],\n",
       "       [ 75.97428 ],\n",
       "       [ 69.7732  ],\n",
       "       [ 64.90566 ],\n",
       "       [ 68.88066 ],\n",
       "       [ 63.078   ],\n",
       "       [ 66.449265],\n",
       "       [ 63.468945],\n",
       "       [ 63.68058 ],\n",
       "       [ 58.636963],\n",
       "       [ 69.60281 ],\n",
       "       [ 58.538635],\n",
       "       [ 99.45148 ],\n",
       "       [ 55.325165],\n",
       "       [ 64.425125],\n",
       "       [ 64.776276],\n",
       "       [ 76.67391 ],\n",
       "       [ 57.999435],\n",
       "       [ 60.97882 ],\n",
       "       [ 69.45253 ],\n",
       "       [100.413345],\n",
       "       [ 95.983116],\n",
       "       [ 60.11108 ],\n",
       "       [ 70.83102 ],\n",
       "       [ 67.82379 ],\n",
       "       [ 62.872498],\n",
       "       [ 96.08837 ],\n",
       "       [ 66.920105],\n",
       "       [ 72.25653 ],\n",
       "       [101.25383 ],\n",
       "       [ 57.781796],\n",
       "       [ 59.33309 ],\n",
       "       [ 75.197525],\n",
       "       [ 76.70894 ],\n",
       "       [ 69.30942 ],\n",
       "       [100.83211 ],\n",
       "       [101.0596  ],\n",
       "       [ 53.70656 ],\n",
       "       [ 63.209984],\n",
       "       [ 98.78028 ],\n",
       "       [ 58.95067 ],\n",
       "       [ 59.806175],\n",
       "       [ 94.67677 ],\n",
       "       [ 76.17584 ],\n",
       "       [ 98.05392 ],\n",
       "       [ 54.510536],\n",
       "       [ 81.239944],\n",
       "       [ 61.90388 ],\n",
       "       [ 64.013435],\n",
       "       [ 62.36265 ],\n",
       "       [ 68.69231 ],\n",
       "       [ 69.37467 ],\n",
       "       [ 95.418945],\n",
       "       [ 97.875015],\n",
       "       [100.265915],\n",
       "       [ 72.7876  ],\n",
       "       [ 99.93436 ],\n",
       "       [ 61.472485],\n",
       "       [ 75.89154 ],\n",
       "       [ 68.47862 ],\n",
       "       [ 59.983234],\n",
       "       [ 59.938335],\n",
       "       [ 97.57388 ],\n",
       "       [ 98.99713 ],\n",
       "       [ 94.33771 ],\n",
       "       [ 67.17465 ],\n",
       "       [ 73.68202 ],\n",
       "       [100.53137 ],\n",
       "       [ 98.76254 ],\n",
       "       [100.35037 ],\n",
       "       [ 73.099884],\n",
       "       [ 63.865685],\n",
       "       [ 64.660286],\n",
       "       [100.89238 ],\n",
       "       [ 59.82418 ],\n",
       "       [ 60.65713 ],\n",
       "       [ 74.092285],\n",
       "       [ 59.352833],\n",
       "       [ 56.418182],\n",
       "       [ 64.373886],\n",
       "       [ 82.21074 ],\n",
       "       [ 71.85175 ],\n",
       "       [ 61.668694],\n",
       "       [ 54.955444],\n",
       "       [ 58.033527],\n",
       "       [ 67.02238 ],\n",
       "       [ 57.531822],\n",
       "       [ 63.445625],\n",
       "       [ 92.203354],\n",
       "       [ 66.5639  ],\n",
       "       [ 61.952667],\n",
       "       [ 67.28707 ],\n",
       "       [ 55.16259 ],\n",
       "       [ 60.125134],\n",
       "       [ 63.796593],\n",
       "       [ 67.32931 ],\n",
       "       [ 69.71103 ],\n",
       "       [ 99.27986 ],\n",
       "       [ 68.12549 ],\n",
       "       [ 95.57419 ],\n",
       "       [100.83668 ],\n",
       "       [100.146774],\n",
       "       [ 95.63669 ],\n",
       "       [100.43796 ],\n",
       "       [ 68.21503 ],\n",
       "       [100.53113 ],\n",
       "       [ 92.48214 ],\n",
       "       [ 72.77896 ],\n",
       "       [ 67.17229 ],\n",
       "       [ 65.532166],\n",
       "       [ 67.14717 ],\n",
       "       [ 66.40487 ],\n",
       "       [101.017975],\n",
       "       [ 65.68419 ],\n",
       "       [102.13994 ],\n",
       "       [ 99.40612 ],\n",
       "       [ 64.33754 ],\n",
       "       [ 77.05902 ],\n",
       "       [ 59.933037],\n",
       "       [100.48764 ],\n",
       "       [ 67.67981 ],\n",
       "       [ 60.893238],\n",
       "       [ 90.24571 ],\n",
       "       [ 59.269207],\n",
       "       [ 61.71325 ],\n",
       "       [ 52.50791 ],\n",
       "       [ 61.901077],\n",
       "       [ 53.506283],\n",
       "       [ 95.84276 ],\n",
       "       [ 66.133026],\n",
       "       [ 72.69541 ],\n",
       "       [ 78.27716 ],\n",
       "       [ 66.80119 ],\n",
       "       [ 59.051716],\n",
       "       [ 98.258255],\n",
       "       [ 74.13487 ],\n",
       "       [ 98.15623 ],\n",
       "       [ 62.23455 ],\n",
       "       [100.48857 ],\n",
       "       [ 73.700386],\n",
       "       [ 76.39054 ],\n",
       "       [ 64.42108 ],\n",
       "       [ 62.30805 ],\n",
       "       [ 99.58409 ],\n",
       "       [ 68.78636 ],\n",
       "       [ 59.736874],\n",
       "       [ 89.63336 ],\n",
       "       [ 53.91074 ],\n",
       "       [ 56.631054],\n",
       "       [ 98.447105],\n",
       "       [ 80.13802 ],\n",
       "       [ 64.80995 ],\n",
       "       [ 59.10765 ],\n",
       "       [ 99.99188 ],\n",
       "       [ 70.98989 ],\n",
       "       [ 64.02344 ],\n",
       "       [ 99.907616],\n",
       "       [ 61.11195 ],\n",
       "       [ 67.51793 ],\n",
       "       [ 77.26812 ],\n",
       "       [ 75.96398 ],\n",
       "       [ 59.77862 ],\n",
       "       [ 99.53274 ],\n",
       "       [ 68.15633 ],\n",
       "       [ 56.653103],\n",
       "       [ 76.65082 ],\n",
       "       [ 66.83417 ],\n",
       "       [ 58.87442 ],\n",
       "       [ 59.216717],\n",
       "       [100.33357 ],\n",
       "       [ 62.823414],\n",
       "       [ 55.705166],\n",
       "       [ 60.990574],\n",
       "       [100.49408 ],\n",
       "       [ 67.34939 ],\n",
       "       [ 82.32217 ],\n",
       "       [ 57.49559 ],\n",
       "       [ 67.03853 ],\n",
       "       [ 62.694878],\n",
       "       [ 90.16821 ],\n",
       "       [ 64.78453 ],\n",
       "       [ 59.462036],\n",
       "       [ 69.25089 ],\n",
       "       [ 56.1782  ],\n",
       "       [ 94.813675],\n",
       "       [ 69.57428 ],\n",
       "       [ 54.53945 ],\n",
       "       [ 65.65967 ],\n",
       "       [ 47.749924],\n",
       "       [ 67.68666 ],\n",
       "       [ 59.637947],\n",
       "       [ 62.693134],\n",
       "       [100.63747 ],\n",
       "       [ 55.355476],\n",
       "       [ 62.320717],\n",
       "       [ 62.3017  ],\n",
       "       [ 80.01395 ],\n",
       "       [ 81.877075],\n",
       "       [ 59.607105],\n",
       "       [ 62.45689 ],\n",
       "       [ 56.712265],\n",
       "       [100.40289 ],\n",
       "       [ 71.08823 ],\n",
       "       [ 62.690514],\n",
       "       [ 81.41106 ],\n",
       "       [ 94.699936],\n",
       "       [ 61.24164 ],\n",
       "       [ 57.519962],\n",
       "       [ 98.4931  ],\n",
       "       [100.19785 ],\n",
       "       [ 94.75972 ],\n",
       "       [ 96.38498 ],\n",
       "       [ 61.758976],\n",
       "       [100.18669 ],\n",
       "       [ 61.62397 ],\n",
       "       [ 55.874092],\n",
       "       [ 52.491043],\n",
       "       [ 71.56827 ],\n",
       "       [ 53.496826]], dtype=float32)"
      ]
     },
     "execution_count": 154,
     "metadata": {},
     "output_type": "execute_result"
    }
   ],
   "source": [
    "MODELS['v3_model'].predict(X)"
   ]
  },
  {
   "cell_type": "code",
   "execution_count": 174,
   "metadata": {},
   "outputs": [],
   "source": [
    "def weighted_binary_crossentropy(weights):\n",
    "    def w_binary_crossentropy(y_true, y_pred):\n",
    "        return tf.keras.backend.sum(tf.nn.weighted_cross_entropy_with_logits(\n",
    "            y_true,\n",
    "            y_pred,\n",
    "            pos_weight=wce_weights\n",
    "        ), axis=-1)\n",
    "    return w_binary_crossentropy"
   ]
  },
  {
   "cell_type": "code",
   "execution_count": 175,
   "metadata": {},
   "outputs": [],
   "source": [
    "layer1 = tf.keras.layers.Dense(64, activation='relu')\n",
    "layer2 = tf.keras.layers.Dense(64, activation='relu')\n",
    "layer3 = tf.keras.layers.Dense(1, activation=None)\n",
    "MODELS['v3_model'] = tf.keras.models.Sequential(\n",
    "    [layer1,layer2, layer3]\n",
    ")\n",
    "weighted_loss = weighted_binary_crossentropy(weights=wce_weights)\n",
    "\n",
    "MODELS['v3_model'].compile(\n",
    "    optimizer='adam', loss=weighted_loss, metrics=['accuracy']\n",
    "    optimizer='adam', loss=weighted_loss, metrics=['accuracy']\n",
    "    tf.keras.losses.BinaryCrossentropy(from_logits=True)\n",
    ")"
   ]
  },
  {
   "cell_type": "code",
   "execution_count": 176,
   "metadata": {},
   "outputs": [
    {
     "name": "stdout",
     "output_type": "stream",
     "text": [
      "808/808 [==============================] - 0s 372us/sample - loss: 99082.0195 - acc: 0.5025\n"
     ]
    },
    {
     "data": {
      "text/plain": [
       "<tensorflow.python.keras.callbacks.History at 0x7fde40881510>"
      ]
     },
     "execution_count": 176,
     "metadata": {},
     "output_type": "execute_result"
    }
   ],
   "source": [
    "MODELS['v3_model'].fit(X_wce, y_wce, epochs=1, batch_size=404)"
   ]
  },
  {
   "cell_type": "code",
   "execution_count": null,
   "metadata": {},
   "outputs": [],
   "source": []
  },
  {
   "cell_type": "code",
   "execution_count": null,
   "metadata": {},
   "outputs": [],
   "source": [
    "with tf.Session() as sess:\n",
    "    batch_size = 32\n",
    "    epoch = 1\n",
    "    sample_total_num = X.shape[0]\n",
    "    \n",
    "    inputs = tf.keras.Input(shape=(784,), dtype=\"float32\")\n",
    "    labels = tf.keras.Input(shape=(), dtype=\"float32\")\n",
    "    layers = [\n",
    "        tf.keras.layers.Dense(128, activation='relu', kernel_initializer=tf.keras.initializers.RandomNormal(seed=1337)),\n",
    "        tf.keras.layers.Dense(1, activation=None, kernel_initializer=tf.keras.initializers.RandomNormal(seed=1337))\n",
    "    ]\n",
    "    x1 = layers[0](inputs)\n",
    "    logits = layers[1](x1)\n",
    "    \n",
    "    # logits = tf.reduce_sum(logits, axis=1)\n",
    "    # loss = tf.reduce_mean(tf.nn.sigmoid_cross_entropy_with_logits(logits=logits, labels=labels))\n",
    "    \n",
    "    label_for_tf = tf.expand_dims(labels, axis=1)\n",
    "    loss = tf.reduce_mean(tf.nn.sigmoid_cross_entropy_with_logits(logits=logits, labels=label_for_tf))\n",
    "    \n",
    "    train_optim = tf.train.AdamOptimizer().minimize(loss)\n",
    "    \n",
    "    init = tf.global_variables_initializer()\n",
    "    sess.run(init)\n",
    "    \n",
    "    print sess.run(loss, feed_dict={inputs: X, labels: y_label})\n",
    "    print sess.run(logits, feed_dict={inputs: X[0:10]})\n",
    "    \n",
    "    for _ in range(epoch):\n",
    "        start_idx = 0\n",
    "        end_idx = start_idx + batch_size\n",
    "        \n",
    "        while end_idx < sample_total_num:\n",
    "            x_batch = X[start_idx: end_idx]\n",
    "            y_batch = y_label[start_idx: end_idx]\n",
    "            sess.run(train_optim, feed_dict={inputs: x_batch, labels: y_batch})\n",
    "            \n",
    "            start_idx = end_idx\n",
    "            end_idx = start_idx + batch_size\n",
    "    \n",
    "    print 'loss', sess.run(loss, feed_dict={inputs: X, labels: y_label})\n",
    "    print 'logits', sess.run(logits, feed_dict={inputs: X[0:10]})"
   ]
  },
  {
   "cell_type": "code",
   "execution_count": null,
   "metadata": {},
   "outputs": [],
   "source": []
  },
  {
   "cell_type": "code",
   "execution_count": null,
   "metadata": {},
   "outputs": [],
   "source": []
  },
  {
   "cell_type": "code",
   "execution_count": null,
   "metadata": {},
   "outputs": [],
   "source": []
  },
  {
   "cell_type": "markdown",
   "metadata": {},
   "source": [
    "# Stats"
   ]
  },
  {
   "cell_type": "code",
   "execution_count": null,
   "metadata": {},
   "outputs": [],
   "source": []
  },
  {
   "cell_type": "code",
   "execution_count": null,
   "metadata": {},
   "outputs": [],
   "source": []
  },
  {
   "cell_type": "code",
   "execution_count": null,
   "metadata": {},
   "outputs": [],
   "source": []
  },
  {
   "cell_type": "markdown",
   "metadata": {},
   "source": [
    "# Stats test"
   ]
  },
  {
   "cell_type": "code",
   "execution_count": 105,
   "metadata": {},
   "outputs": [
    {
     "data": {
      "text/plain": [
       "20.88587"
      ]
     },
     "execution_count": 105,
     "metadata": {},
     "output_type": "execute_result"
    }
   ],
   "source": [
    "y_pred_v2 = rebuild_y(np.sum(MODELS['v2_model'].predict(X),axis=1), mean, std)\n",
    "np.mean(y_pred_v2)"
   ]
  },
  {
   "cell_type": "code",
   "execution_count": 131,
   "metadata": {},
   "outputs": [
    {
     "data": {
      "text/plain": [
       "20.193396"
      ]
     },
     "execution_count": 131,
     "metadata": {},
     "output_type": "execute_result"
    }
   ],
   "source": [
    "y_pred = np.sum(MODELS['v1_2_model'].predict(X),axis=1)\n",
    "np.mean(y_pred)\n",
    "y_pred = np.sum(MODELS['v1_model'].predict(X),axis=1)\n",
    "np.mean(y_pred)"
   ]
  },
  {
   "cell_type": "code",
   "execution_count": 128,
   "metadata": {},
   "outputs": [
    {
     "data": {
      "text/plain": [
       "22.395049504950492"
      ]
     },
     "execution_count": 128,
     "metadata": {},
     "output_type": "execute_result"
    }
   ],
   "source": [
    "np.mean(y_label)"
   ]
  },
  {
   "cell_type": "code",
   "execution_count": 107,
   "metadata": {},
   "outputs": [
    {
     "data": {
      "text/plain": [
       "18.064018"
      ]
     },
     "execution_count": 107,
     "metadata": {},
     "output_type": "execute_result"
    }
   ],
   "source": [
    "np.mean(y_pred)"
   ]
  },
  {
   "cell_type": "code",
   "execution_count": 91,
   "metadata": {},
   "outputs": [
    {
     "data": {
      "text/plain": [
       "20.88587"
      ]
     },
     "execution_count": 91,
     "metadata": {},
     "output_type": "execute_result"
    }
   ],
   "source": [
    "np.mean(y_pred_v2)"
   ]
  },
  {
   "cell_type": "code",
   "execution_count": 102,
   "metadata": {},
   "outputs": [
    {
     "data": {
      "text/plain": [
       "81.35178203113595"
      ]
     },
     "execution_count": 102,
     "metadata": {},
     "output_type": "execute_result"
    }
   ],
   "source": [
    "np.sum((y_pred - y_label)**2) / 404"
   ]
  },
  {
   "cell_type": "code",
   "execution_count": 132,
   "metadata": {},
   "outputs": [
    {
     "data": {
      "text/plain": [
       "(array([ 2.,  2.,  3.,  1.,  2.,  1.,  1.,  2.,  1.,  6.,  4.,  5.,  7.,\n",
       "        20., 21., 27., 32., 25., 33., 43., 34., 44., 28., 21.,  4.,  6.,\n",
       "         0.,  3.,  2.,  3.,  0.,  0.,  1.,  4.,  1.,  2.,  3.,  5.,  3.,\n",
       "         2.]), array([-38.32294083, -36.28726084, -34.25158085, -32.21590086,\n",
       "        -30.18022087, -28.14454088, -26.10886089, -24.0731809 ,\n",
       "        -22.03750092, -20.00182093, -17.96614094, -15.93046095,\n",
       "        -13.89478096, -11.85910097,  -9.82342098,  -7.78774099,\n",
       "         -5.752061  ,  -3.71638102,  -1.68070103,   0.35497896,\n",
       "          2.39065895,   4.42633894,   6.46201893,   8.49769892,\n",
       "         10.53337891,  12.5690589 ,  14.60473888,  16.64041887,\n",
       "         18.67609886,  20.71177885,  22.74745884,  24.78313883,\n",
       "         26.81881882,  28.85449881,  30.89017879,  32.92585878,\n",
       "         34.96153877,  36.99721876,  39.03289875,  41.06857874,\n",
       "         43.10425873]), <a list of 40 Patch objects>)"
      ]
     },
     "execution_count": 132,
     "metadata": {},
     "output_type": "execute_result"
    },
    {
     "data": {
      "image/png": "[encoded data removed]",
      "text/plain": [
       "<Figure size 432x288 with 1 Axes>"
      ]
     },
     "metadata": {
      "needs_background": "light"
     },
     "output_type": "display_data"
    }
   ],
   "source": [
    "y_pred = np.sum(MODELS['v1_2_model'].predict(X),axis=1)\n",
    "np.mean(y_pred)\n",
    "plt.hist(y_pred - y_label, bins=40, normed=0, facecolor=\"blue\", edgecolor=\"black\", alpha=0.7)"
   ]
  },
  {
   "cell_type": "code",
   "execution_count": 133,
   "metadata": {},
   "outputs": [
    {
     "data": {
      "text/plain": [
       "(array([ 3.,  2.,  1.,  2.,  0.,  1.,  1.,  0.,  0.,  2.,  2.,  1.,  2.,\n",
       "         3.,  2.,  3.,  1.,  3.,  3.,  8.,  3., 12., 16., 13., 22., 32.,\n",
       "        21., 36., 34., 43., 32., 29., 23., 17., 14., 10.,  2.,  3.,  1.,\n",
       "         1.]), array([-37.02536011, -35.73813282, -34.45090553, -33.16367825,\n",
       "        -31.87645096, -30.58922367, -29.30199638, -28.0147691 ,\n",
       "        -26.72754181, -25.44031452, -24.15308723, -22.86585995,\n",
       "        -21.57863266, -20.29140537, -19.00417809, -17.7169508 ,\n",
       "        -16.42972351, -15.14249622, -13.85526894, -12.56804165,\n",
       "        -11.28081436,  -9.99358707,  -8.70635979,  -7.4191325 ,\n",
       "         -6.13190521,  -4.84467793,  -3.55745064,  -2.27022335,\n",
       "         -0.98299606,   0.30423122,   1.59145851,   2.8786858 ,\n",
       "          4.16591309,   5.45314037,   6.74036766,   8.02759495,\n",
       "          9.31482224,  10.60204952,  11.88927681,  13.1765041 ,\n",
       "         14.46373138]), <a list of 40 Patch objects>)"
      ]
     },
     "execution_count": 133,
     "metadata": {},
     "output_type": "execute_result"
    },
    {
     "data": {
      "image/png": "[encoded data removed]",
      "text/plain": [
       "<Figure size 432x288 with 1 Axes>"
      ]
     },
     "metadata": {
      "needs_background": "light"
     },
     "output_type": "display_data"
    }
   ],
   "source": [
    "y_pred = np.sum(MODELS['v1_model'].predict(X),axis=1)\n",
    "plt.hist(y_pred - y_label, bins=40, normed=0, facecolor=\"blue\", edgecolor=\"black\", alpha=0.7)"
   ]
  },
  {
   "cell_type": "code",
   "execution_count": 93,
   "metadata": {},
   "outputs": [
    {
     "data": {
      "text/plain": [
       "(array([ 4.,  4.,  3.,  1.,  0.,  4.,  6.,  4.,  7.,  8.,  9., 16., 10.,\n",
       "        12., 19., 28., 21., 24., 22., 29., 27., 28., 21., 14., 10.,  6.,\n",
       "        18.,  7., 10.,  5.,  3.,  5.,  1.,  2.,  2.,  4.,  1.,  1.,  5.,\n",
       "         3.]), array([-53.40721512, -50.67068159, -47.93414806, -45.19761454,\n",
       "        -42.46108101, -39.72454748, -36.98801395, -34.25148043,\n",
       "        -31.5149469 , -28.77841337, -26.04187984, -23.30534632,\n",
       "        -20.56881279, -17.83227926, -15.09574574, -12.35921221,\n",
       "         -9.62267868,  -6.88614515,  -4.14961163,  -1.4130781 ,\n",
       "          1.32345543,   4.05998896,   6.79652248,   9.53305601,\n",
       "         12.26958954,  15.00612307,  17.74265659,  20.47919012,\n",
       "         23.21572365,  25.95225718,  28.6887907 ,  31.42532423,\n",
       "         34.16185776,  36.89839128,  39.63492481,  42.37145834,\n",
       "         45.10799187,  47.84452539,  50.58105892,  53.31759245,\n",
       "         56.05412598]), <a list of 40 Patch objects>)"
      ]
     },
     "execution_count": 93,
     "metadata": {},
     "output_type": "execute_result"
    },
    {
     "data": {
      "image/png": "[encoded data removed]",
      "text/plain": [
       "<Figure size 432x288 with 1 Axes>"
      ]
     },
     "metadata": {
      "needs_background": "light"
     },
     "output_type": "display_data"
    }
   ],
   "source": [
    "plt.hist(y_pred_v2 - y_label, bins=40, normed=0, facecolor=\"blue\", edgecolor=\"black\", alpha=0.7)"
   ]
  },
  {
   "cell_type": "code",
   "execution_count": null,
   "metadata": {},
   "outputs": [],
   "source": []
  },
  {
   "cell_type": "code",
   "execution_count": null,
   "metadata": {},
   "outputs": [],
   "source": []
  },
  {
   "cell_type": "code",
   "execution_count": null,
   "metadata": {},
   "outputs": [],
   "source": []
  },
  {
   "cell_type": "markdown",
   "metadata": {},
   "source": [
    "# Test"
   ]
  },
  {
   "cell_type": "code",
   "execution_count": null,
   "metadata": {},
   "outputs": [],
   "source": [
    "np.concatenate([X, X],axis=0).shape\n",
    "np.concatenate([y_label, y_label],axis=0).shape\n",
    "np.ones_like(y_label).shape\n",
    "np.zeros_like(y_label).shape"
   ]
  },
  {
   "cell_type": "code",
   "execution_count": null,
   "metadata": {},
   "outputs": [],
   "source": []
  },
  {
   "cell_type": "code",
   "execution_count": 177,
   "metadata": {},
   "outputs": [
    {
     "data": {
      "text/plain": [
       "<tf.Tensor 'Const_15:0' shape=(2,) dtype=float32>"
      ]
     },
     "execution_count": 177,
     "metadata": {},
     "output_type": "execute_result"
    }
   ],
   "source": [
    "tf.constant([1.0,2.0])"
   ]
  },
  {
   "cell_type": "code",
   "execution_count": 181,
   "metadata": {},
   "outputs": [
    {
     "data": {
      "text/plain": [
       "1e-07"
      ]
     },
     "execution_count": 181,
     "metadata": {},
     "output_type": "execute_result"
    }
   ],
   "source": [
    "1e-7"
   ]
  },
  {
   "cell_type": "code",
   "execution_count": 180,
   "metadata": {},
   "outputs": [
    {
     "data": {
      "text/plain": [
       "100000000.0"
      ]
     },
     "execution_count": 180,
     "metadata": {},
     "output_type": "execute_result"
    }
   ],
   "source": [
    "10e7"
   ]
  },
  {
   "cell_type": "code",
   "execution_count": 184,
   "metadata": {},
   "outputs": [
    {
     "name": "stdout",
     "output_type": "stream",
     "text": [
      "3.0590223e-07\n"
     ]
    }
   ],
   "source": [
    "with tf.Session() as sess:\n",
    "    print sess.run(tf.nn.sigmoid(-15.0))"
   ]
  },
  {
   "cell_type": "code",
   "execution_count": null,
   "metadata": {},
   "outputs": [],
   "source": []
  }
 ],
 "metadata": {
  "kernelspec": {
   "display_name": "Python 2",
   "language": "python",
   "name": "python2"
  },
  "language_info": {
   "codemirror_mode": {
    "name": "ipython",
    "version": 2
   },
   "file_extension": ".py",
   "mimetype": "text/x-python",
   "name": "python",
   "nbconvert_exporter": "python",
   "pygments_lexer": "ipython2",
   "version": "2.7.18"
  },
  "toc": {
   "base_numbering": 1,
   "nav_menu": {},
   "number_sections": true,
   "sideBar": true,
   "skip_h1_title": false,
   "title_cell": "Table of Contents",
   "title_sidebar": "Contents",
   "toc_cell": false,
   "toc_position": {
    "height": "calc(100% - 180px)",
    "left": "10px",
    "top": "150px",
    "width": "354.391px"
   },
   "toc_section_display": true,
   "toc_window_display": true
  }
 },
 "nbformat": 4,
 "nbformat_minor": 2
}
