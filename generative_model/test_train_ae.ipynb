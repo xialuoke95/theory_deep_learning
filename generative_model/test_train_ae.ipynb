{
 "cells": [
  {
   "cell_type": "code",
   "execution_count": null,
   "metadata": {},
   "outputs": [],
   "source": [
    "================= 直接 AE 生成的效果\n",
    "1. USE FIX ENCODE LAYER of \"1\" classify\n",
    "比较模糊\n",
    "\n",
    "2. USE UNFIXED ENCODE LAYER\n",
    "相对清晰了一些\n",
    "\n",
    "3. 其他\n",
    "USE STRAIGHT POOLING + DECODE_LAYER，直接做一个直觉的 encode 是不是也差不多呢？\n",
    "\n",
    "2. "
   ]
  },
  {
   "cell_type": "code",
   "execution_count": null,
   "metadata": {},
   "outputs": [],
   "source": [
    "# Some points\n",
    "1. a = sess.run(xx) 可以把值作为 ndarray 用a变量带出来\n",
    "\n",
    "============================= 最小子集问题\n",
    "============================== 几个没解决的 api问题：\n",
    "\n",
    "0. 怎么对部分层 set_weights + freeze layer ?\n",
    "怎么自定义 layer 支持更复杂的 tf 计算？\n",
    "\n",
    "1. 当不同的keras model 共享了同一层 layer 的时候（比如整体的模型 tensor 同时定义出几个model的定义方式），\n",
    "model.fit的时候有没有可能导致更新了同一层参数？以下是 model 内嵌 model\n",
    "https://stackoverflow.com/questions/50283844/in-keras-how-to-get-the-layer-name-associated-with-a-model-object-contained-i\n",
    "\n",
    "1.1 引申地，为了不让这样的事情发生，如何用好 set_weights?\n",
    "    \n",
    "2. 如果 Input 是 Embedding，结构是 FM 而没有自定义 layer, 直接用 keras model 包裹，model.layers 会包括哪些参数？其他参数存储在哪？\n",
    "怎么复用这些不在层里的参数？它们本质是 tensor？\n",
    "\n",
    "3. 修改 model 的 layer name 时，如果和全局其他已经存在的 tensor（layer name）冲突了会有什么样的表现？\n",
    "https://nrasadi.medium.com/change-model-layer-name-in-tensorflow-keras-58771dd6bf1b\n",
    "一个配合性的问题是多次加载已知模型，tensor 重名，将无法 combine 这些已知模型\n",
    "\n",
    "一个完整的模型，一份代码配置只定义一个模型 + 其中的 tensor，定义比较清晰，不过这样的 api 复用起不同的模型的tensor来会比较费劲\n",
    "（当然现实中先证明这么做有用才有价值，由于不清楚 weights 尤其是各种 dense 层的 weights 发挥的是什么作用，现在大模型本身是重 train 的，\n",
    "结合各个大模型之路必要性也不大，最多是 pre-train+fine-tune）\n",
    "\n",
    "4. 其他\n",
    "从 tensor name 层面做唯一定义，在这种探索变量满天飞的场景是一种灾难\n",
    "fix layer decode model：更好的做法是 layer1-layer2 + set_weights + freeze_layer1, 但算出中间值然后只 fit layer2 的做法也勉强够用\n",
    "至少做 model.predict 的时候不需要担心重复加载参数的问题\n",
    "keras model的嵌套从而更好地支持复杂模型：\n",
    "https://datascience.stackexchange.com/questions/40886/how-to-change-the-names-of-the-layers-of-deep-learning-in-keras\n",
    "    \n",
    "    "
   ]
  },
  {
   "cell_type": "code",
   "execution_count": null,
   "metadata": {},
   "outputs": [],
   "source": [
    "# Bug\n"
   ]
  },
  {
   "cell_type": "code",
   "execution_count": null,
   "metadata": {},
   "outputs": [],
   "source": []
  },
  {
   "cell_type": "code",
   "execution_count": null,
   "metadata": {},
   "outputs": [],
   "source": []
  },
  {
   "cell_type": "code",
   "execution_count": 3,
   "metadata": {},
   "outputs": [],
   "source": [
    "import os,sys\n",
    "sys.path.insert(0, \"/Users/bytedance/LearningProjects/theory_deep_learning\")\n",
    "PROJECT_PATH= '/Users/bytedance/LearningProjects/theory_deep_learning/generative_model'\n",
    "\n",
    "import numpy as np\n",
    "from scipy import stats\n",
    "import tensorflow as tf\n",
    "import random as python_random\n",
    "import matplotlib.pyplot as plt\n",
    "import matplotlib.gridspec as gridspec\n",
    "from tensorflow.examples.tutorials.mnist import input_data\n",
    "from utils.plot_image import plot"
   ]
  },
  {
   "cell_type": "markdown",
   "metadata": {},
   "source": [
    "# 全局变量"
   ]
  },
  {
   "cell_type": "code",
   "execution_count": 1,
   "metadata": {},
   "outputs": [],
   "source": [
    "# MODELS: MODELS['whole_model']\n",
    "# LAYERS: get_layer, 有必要的地方特别定义层名即可\n",
    "\n",
    "MODELS = {\n",
    "    \n",
    "}\n",
    "\n",
    "LAYERS = {\n",
    "    \n",
    "}"
   ]
  },
  {
   "cell_type": "code",
   "execution_count": 37,
   "metadata": {},
   "outputs": [
    {
     "data": {
      "text/plain": [
       "['AE_model', '1_decode_model', 'init_model']"
      ]
     },
     "execution_count": 37,
     "metadata": {},
     "output_type": "execute_result"
    }
   ],
   "source": [
    "MODELS.keys()"
   ]
  },
  {
   "cell_type": "code",
   "execution_count": 36,
   "metadata": {},
   "outputs": [],
   "source": []
  },
  {
   "cell_type": "markdown",
   "metadata": {},
   "source": [
    "# 环境准备"
   ]
  },
  {
   "cell_type": "markdown",
   "metadata": {},
   "source": [
    "## 输入准备"
   ]
  },
  {
   "cell_type": "code",
   "execution_count": 5,
   "metadata": {},
   "outputs": [
    {
     "name": "stdout",
     "output_type": "stream",
     "text": [
      "Extracting /Users/bytedance/LearningProjects/MNIST_data/train-images-idx3-ubyte.gz\n",
      "Extracting /Users/bytedance/LearningProjects/MNIST_data/train-labels-idx1-ubyte.gz\n",
      "Extracting /Users/bytedance/LearningProjects/MNIST_data/t10k-images-idx3-ubyte.gz\n",
      "Extracting /Users/bytedance/LearningProjects/MNIST_data/t10k-labels-idx1-ubyte.gz\n"
     ]
    },
    {
     "data": {
      "text/plain": [
       "(55000, 784)"
      ]
     },
     "execution_count": 5,
     "metadata": {},
     "output_type": "execute_result"
    }
   ],
   "source": [
    "mnist = input_data.read_data_sets('/Users/bytedance/LearningProjects/MNIST_data', one_hot=False)\n",
    "X = mnist.train.images\n",
    "X.shape"
   ]
  },
  {
   "cell_type": "code",
   "execution_count": 6,
   "metadata": {},
   "outputs": [
    {
     "data": {
      "text/plain": [
       "array([0., 0., 0., ..., 0., 0., 0.])"
      ]
     },
     "execution_count": 6,
     "metadata": {},
     "output_type": "execute_result"
    }
   ],
   "source": [
    "y_label = (mnist.train.labels == 1).astype(float)\n",
    "y_label"
   ]
  },
  {
   "cell_type": "code",
   "execution_count": 10,
   "metadata": {},
   "outputs": [
    {
     "data": {
      "text/plain": [
       "(55000, 128)"
      ]
     },
     "execution_count": 10,
     "metadata": {},
     "output_type": "execute_result"
    }
   ],
   "source": [
    "with tf.Session() as sess:\n",
    "    init = tf.global_variables_initializer()\n",
    "    sess.run(init)\n",
    "    \n",
    "#     _ = tf.keras.Input(shape=(784,), dtype=\"float32\")\n",
    "#     encode_input = layer1(_)\n",
    "#     print sess.run(encode_input, feed_dict={_:X})\n",
    "\n",
    "    encode_input = sess.run( layer1(X) )\n",
    "\n",
    "encode_input.shape"
   ]
  },
  {
   "cell_type": "code",
   "execution_count": null,
   "metadata": {},
   "outputs": [],
   "source": []
  },
  {
   "cell_type": "markdown",
   "metadata": {},
   "source": [
    "## 加载模型"
   ]
  },
  {
   "cell_type": "code",
   "execution_count": 7,
   "metadata": {},
   "outputs": [
    {
     "data": {
      "text/plain": [
       "<tensorflow.python.training.checkpointable.util.CheckpointLoadStatus at 0x7fe801c304d0>"
      ]
     },
     "execution_count": 7,
     "metadata": {},
     "output_type": "execute_result"
    }
   ],
   "source": [
    "layer1 = tf.keras.layers.Dense(128, activation='relu')\n",
    "layer2 = tf.keras.layers.Dense(1, activation=None)\n",
    "MODELS['init_model'] = tf.keras.models.Sequential(\n",
    "    [layer1,layer2]\n",
    ")\n",
    "MODELS['init_model'].load_weights(PROJECT_PATH + '/weights/weights_keras')"
   ]
  },
  {
   "cell_type": "code",
   "execution_count": 8,
   "metadata": {},
   "outputs": [
    {
     "name": "stdout",
     "output_type": "stream",
     "text": [
      "WARNING:tensorflow:From /Users/bytedance/miniconda3/envs/tf1/lib/python2.7/site-packages/tensorflow/python/ops/resource_variable_ops.py:435: colocate_with (from tensorflow.python.framework.ops) is deprecated and will be removed in a future version.\n",
      "Instructions for updating:\n",
      "Colocations handled automatically by placer.\n"
     ]
    },
    {
     "data": {
      "text/plain": [
       "array([[-13.515839],\n",
       "       [-11.02475 ],\n",
       "       [-13.867207],\n",
       "       [-10.416041],\n",
       "       [  6.316296],\n",
       "       [-12.889773],\n",
       "       [  6.716749],\n",
       "       [-20.945824],\n",
       "       [ -9.196558],\n",
       "       [-11.598768]], dtype=float32)"
      ]
     },
     "execution_count": 8,
     "metadata": {},
     "output_type": "execute_result"
    }
   ],
   "source": [
    "MODELS['init_model'].predict(X[0:10])"
   ]
  },
  {
   "cell_type": "code",
   "execution_count": 9,
   "metadata": {},
   "outputs": [
    {
     "data": {
      "image/png": "[encoded data removed]",
      "text/plain": [
       "<Figure size 288x288 with 10 Axes>"
      ]
     },
     "metadata": {
      "needs_background": "light"
     },
     "output_type": "display_data"
    }
   ],
   "source": [
    "a = plot(X[0:10])"
   ]
  },
  {
   "cell_type": "code",
   "execution_count": null,
   "metadata": {},
   "outputs": [],
   "source": []
  },
  {
   "cell_type": "code",
   "execution_count": null,
   "metadata": {},
   "outputs": [],
   "source": []
  },
  {
   "cell_type": "markdown",
   "metadata": {},
   "source": [
    "# AE 生成的效果"
   ]
  },
  {
   "cell_type": "markdown",
   "metadata": {},
   "source": [
    "## Freeze 数字 \"1\" 分类的encode层，训练decode层"
   ]
  },
  {
   "cell_type": "code",
   "execution_count": null,
   "metadata": {},
   "outputs": [],
   "source": [
    "#====================================== USE FIX ENCODE LAYER of \"1\" classify"
   ]
  },
  {
   "cell_type": "code",
   "execution_count": 11,
   "metadata": {},
   "outputs": [],
   "source": [
    "MODELS['1_decode_model'] = tf.keras.models.Sequential([\n",
    "    tf.keras.layers.Dense(784, activation=None, kernel_initializer=tf.keras.initializers.RandomNormal(seed=1337))\n",
    "])"
   ]
  },
  {
   "cell_type": "code",
   "execution_count": 12,
   "metadata": {},
   "outputs": [],
   "source": [
    "MODELS['1_decode_model'].compile(optimizer='adam',\n",
    "                    loss=tf.keras.losses.MeanSquaredError())"
   ]
  },
  {
   "cell_type": "code",
   "execution_count": 13,
   "metadata": {},
   "outputs": [
    {
     "name": "stdout",
     "output_type": "stream",
     "text": [
      "WARNING:tensorflow:From /Users/bytedance/miniconda3/envs/tf1/lib/python2.7/site-packages/tensorflow/python/keras/utils/losses_utils.py:170: to_float (from tensorflow.python.ops.math_ops) is deprecated and will be removed in a future version.\n",
      "Instructions for updating:\n",
      "Use tf.cast instead.\n",
      "WARNING:tensorflow:From /Users/bytedance/miniconda3/envs/tf1/lib/python2.7/site-packages/tensorflow/python/ops/math_ops.py:3066: to_int32 (from tensorflow.python.ops.math_ops) is deprecated and will be removed in a future version.\n",
      "Instructions for updating:\n",
      "Use tf.cast instead.\n",
      "Epoch 1/4\n",
      "55000/55000 [==============================] - 3s 54us/sample - loss: 0.02541s\n",
      "Epoch 2/4\n",
      "55000/55000 [==============================] - 2s 41us/sample - loss: 0.0188\n",
      "Epoch 3/4\n",
      "55000/55000 [==============================] - 2s 38us/sample - loss: 0.01870s - loss: 0.018 - ETA: 0s - loss\n",
      "Epoch 4/4\n",
      "55000/55000 [==============================] - 2s 39us/sample - loss: 0.0187\n"
     ]
    },
    {
     "data": {
      "text/plain": [
       "<tensorflow.python.keras.callbacks.History at 0x7fe829dc6690>"
      ]
     },
     "execution_count": 13,
     "metadata": {},
     "output_type": "execute_result"
    }
   ],
   "source": [
    "MODELS['1_decode_model'].fit(encode_input, X, epochs=4)"
   ]
  },
  {
   "cell_type": "code",
   "execution_count": 16,
   "metadata": {},
   "outputs": [
    {
     "data": {
      "image/png": "[encoded data removed]",
      "text/plain": [
       "<Figure size 288x288 with 10 Axes>"
      ]
     },
     "metadata": {
      "needs_background": "light"
     },
     "output_type": "display_data"
    }
   ],
   "source": [
    "_ = MODELS['1_decode_model'].predict(encode_input[0:10])\n",
    "a = plot(_)"
   ]
  },
  {
   "cell_type": "code",
   "execution_count": 17,
   "metadata": {},
   "outputs": [
    {
     "data": {
      "image/png": "[encoded data removed]",
      "text/plain": [
       "<Figure size 288x288 with 10 Axes>"
      ]
     },
     "metadata": {
      "needs_background": "light"
     },
     "output_type": "display_data"
    }
   ],
   "source": [
    "a = plot(X[0:10])"
   ]
  },
  {
   "cell_type": "code",
   "execution_count": null,
   "metadata": {},
   "outputs": [],
   "source": []
  },
  {
   "cell_type": "markdown",
   "metadata": {},
   "source": [
    "## AE 端到端 : simple case"
   ]
  },
  {
   "cell_type": "code",
   "execution_count": null,
   "metadata": {},
   "outputs": [],
   "source": [
    "#====================================== USE UNFIXED ENCODE LAYER"
   ]
  },
  {
   "cell_type": "code",
   "execution_count": 19,
   "metadata": {},
   "outputs": [],
   "source": [
    "MODELS['AE_model'] = tf.keras.models.Sequential([\n",
    "    tf.keras.layers.Dense(128, activation='relu', kernel_initializer=tf.keras.initializers.RandomNormal(seed=1337)),\n",
    "    tf.keras.layers.Dense(784, activation=None, kernel_initializer=tf.keras.initializers.RandomNormal(seed=1337))\n",
    "])"
   ]
  },
  {
   "cell_type": "code",
   "execution_count": 20,
   "metadata": {},
   "outputs": [
    {
     "name": "stdout",
     "output_type": "stream",
     "text": [
      "Epoch 1/2\n",
      "55000/55000 [==============================] - 4s 76us/sample - loss: 0.0158\n",
      "Epoch 2/2\n",
      "55000/55000 [==============================] - 3s 58us/sample - loss: 0.00840s \n"
     ]
    },
    {
     "data": {
      "text/plain": [
       "<tensorflow.python.keras.callbacks.History at 0x7fe82a072d90>"
      ]
     },
     "execution_count": 20,
     "metadata": {},
     "output_type": "execute_result"
    }
   ],
   "source": [
    "MODELS['AE_model'].compile(optimizer='adam',\n",
    "                   loss=tf.keras.losses.MeanSquaredError())\n",
    "MODELS['AE_model'].fit(X, X, epochs=2)"
   ]
  },
  {
   "cell_type": "code",
   "execution_count": 21,
   "metadata": {},
   "outputs": [
    {
     "data": {
      "image/png": "[encoded data removed]",
      "text/plain": [
       "<Figure size 288x288 with 10 Axes>"
      ]
     },
     "metadata": {
      "needs_background": "light"
     },
     "output_type": "display_data"
    }
   ],
   "source": [
    "a = plot(MODELS['AE_model'].predict(X[0:10]))"
   ]
  },
  {
   "cell_type": "code",
   "execution_count": null,
   "metadata": {},
   "outputs": [],
   "source": []
  },
  {
   "cell_type": "markdown",
   "metadata": {},
   "source": [
    "## 【!! ing】启发式encode层"
   ]
  },
  {
   "cell_type": "code",
   "execution_count": null,
   "metadata": {},
   "outputs": [],
   "source": [
    "#====================================== USE STRAIGHT POOLING + DECODE_LAYER"
   ]
  },
  {
   "cell_type": "code",
   "execution_count": null,
   "metadata": {},
   "outputs": [],
   "source": [
    "#====================================== USE STRAIGHT POOLING + STRAIGHT POOLING DECODE"
   ]
  },
  {
   "cell_type": "code",
   "execution_count": null,
   "metadata": {},
   "outputs": [],
   "source": []
  },
  {
   "cell_type": "code",
   "execution_count": null,
   "metadata": {},
   "outputs": [],
   "source": []
  },
  {
   "cell_type": "markdown",
   "metadata": {},
   "source": [
    "# 分析原始输入各维、中间层各维分布"
   ]
  },
  {
   "cell_type": "code",
   "execution_count": null,
   "metadata": {},
   "outputs": [],
   "source": [
    "#====================================== Middle Layer output Model"
   ]
  },
  {
   "cell_type": "markdown",
   "metadata": {},
   "source": [
    "## 定义一个便于分析中间层的模型"
   ]
  },
  {
   "cell_type": "code",
   "execution_count": 73,
   "metadata": {},
   "outputs": [
    {
     "name": "stdout",
     "output_type": "stream",
     "text": [
      "Epoch 1/2\n",
      "55000/55000 [==============================] - 5s 97us/sample - loss: 0.0157\n",
      "Epoch 2/2\n",
      "55000/55000 [==============================] - 4s 74us/sample - loss: 0.0082\n"
     ]
    },
    {
     "data": {
      "text/plain": [
       "<tensorflow.python.keras.callbacks.History at 0x7fe801e51cd0>"
      ]
     },
     "execution_count": 73,
     "metadata": {},
     "output_type": "execute_result"
    }
   ],
   "source": [
    "X_placeholder = tf.keras.layers.Input(shape=(784,),dtype=tf.float32)\n",
    "gen_placeholder = tf.keras.layers.Input(shape=(128,),dtype=tf.float32)\n",
    "\n",
    "layer1 = tf.keras.layers.Dense(\n",
    "    128, activation=None, kernel_initializer=tf.keras.initializers.RandomNormal(seed=1337))\n",
    "relu_layer = tf.keras.layers.ReLU()\n",
    "layer2 = tf.keras.layers.Dense(\n",
    "    784, activation=None, kernel_initializer=tf.keras.initializers.RandomNormal(seed=1337))\n",
    "\n",
    "middle_outputs = layer1(X_placeholder)\n",
    "_1 = relu_layer(middle_outputs)\n",
    "# _1 = middle_outputs\n",
    "outputs = layer2(_1)\n",
    "gen_outputs = layer2(gen_placeholder)\n",
    "\n",
    "MODELS['AE_model_tf'] = tf.keras.Model(X_placeholder, outputs)\n",
    "MODELS['AE_model_tf_encode_layer'] = tf.keras.Model(inputs=X_placeholder, outputs=middle_outputs)\n",
    "MODELS['AE_model_tf_decode_layer'] = tf.keras.Model(gen_placeholder, gen_outputs)\n",
    "\n",
    "MODELS['AE_model_tf'].compile(optimizer='adam',\n",
    "                   loss=tf.keras.losses.MeanSquaredError())\n",
    "MODELS['AE_model_tf'].fit(X, X, epochs=2)\n",
    "\n"
   ]
  },
  {
   "cell_type": "markdown",
   "metadata": {},
   "source": [
    "#### one small trial: no relu, better loss result.\n",
    "从表达上来说，毕竟也压缩到128维了，应该不完全是学个恒等？"
   ]
  },
  {
   "cell_type": "code",
   "execution_count": null,
   "metadata": {},
   "outputs": [],
   "source": []
  },
  {
   "cell_type": "code",
   "execution_count": 71,
   "metadata": {},
   "outputs": [
    {
     "name": "stdout",
     "output_type": "stream",
     "text": [
      "_________________________________________________________________\n",
      "Layer (type)                 Output Shape              Param #   \n",
      "=================================================================\n",
      "input_8 (InputLayer)         (None, 128)               0         \n",
      "_________________________________________________________________\n",
      "dense_12 (Dense)             (None, 784)               101136    \n",
      "=================================================================\n",
      "Total params: 101,136\n",
      "Trainable params: 101,136\n",
      "Non-trainable params: 0\n",
      "_________________________________________________________________\n",
      "_________________________________________________________________\n",
      "Layer (type)                 Output Shape              Param #   \n",
      "=================================================================\n",
      "input_7 (InputLayer)         (None, 784)               0         \n",
      "_________________________________________________________________\n",
      "dense_11 (Dense)             (None, 128)               100480    \n",
      "_________________________________________________________________\n",
      "re_lu (ReLU)                 (None, 128)               0         \n",
      "_________________________________________________________________\n",
      "dense_12 (Dense)             (None, 784)               101136    \n",
      "=================================================================\n",
      "Total params: 201,616\n",
      "Trainable params: 201,616\n",
      "Non-trainable params: 0\n",
      "_________________________________________________________________\n"
     ]
    }
   ],
   "source": [
    "MODELS['AE_model_tf_decode_layer'].summary()\n",
    "MODELS['AE_model_tf'].summary()"
   ]
  },
  {
   "cell_type": "markdown",
   "metadata": {},
   "source": [
    "## 原始输入分析"
   ]
  },
  {
   "cell_type": "code",
   "execution_count": null,
   "metadata": {},
   "outputs": [],
   "source": []
  },
  {
   "cell_type": "markdown",
   "metadata": {},
   "source": [
    "### 每一维度除去0 / 1的极端值大致处于均匀分布"
   ]
  },
  {
   "cell_type": "code",
   "execution_count": 49,
   "metadata": {},
   "outputs": [
    {
     "data": {
      "image/png": "[encoded data removed]",
      "text/plain": [
       "<Figure size 432x288 with 1 Axes>"
      ]
     },
     "metadata": {
      "needs_background": "light"
     },
     "output_type": "display_data"
    },
    {
     "data": {
      "image/png": "[encoded data removed]",
      "text/plain": [
       "<Figure size 432x288 with 1 Axes>"
      ]
     },
     "metadata": {
      "needs_background": "light"
     },
     "output_type": "display_data"
    },
    {
     "data": {
      "image/png": "[encoded data removed]",
      "text/plain": [
       "<Figure size 432x288 with 1 Axes>"
      ]
     },
     "metadata": {
      "needs_background": "light"
     },
     "output_type": "display_data"
    },
    {
     "data": {
      "image/png": "[encoded data removed]",
      "text/plain": [
       "<Figure size 432x288 with 1 Axes>"
      ]
     },
     "metadata": {
      "needs_background": "light"
     },
     "output_type": "display_data"
    },
    {
     "data": {
      "image/png": "[encoded data removed]",
      "text/plain": [
       "<Figure size 432x288 with 1 Axes>"
      ]
     },
     "metadata": {
      "needs_background": "light"
     },
     "output_type": "display_data"
    },
    {
     "data": {
      "image/png": "[encoded data removed]",
      "text/plain": [
       "<Figure size 432x288 with 1 Axes>"
      ]
     },
     "metadata": {
      "needs_background": "light"
     },
     "output_type": "display_data"
    },
    {
     "data": {
      "image/png": "[encoded data removed]",
      "text/plain": [
       "<Figure size 432x288 with 1 Axes>"
      ]
     },
     "metadata": {
      "needs_background": "light"
     },
     "output_type": "display_data"
    },
    {
     "data": {
      "image/png": "[encoded data removed]",
      "text/plain": [
       "<Figure size 432x288 with 1 Axes>"
      ]
     },
     "metadata": {
      "needs_background": "light"
     },
     "output_type": "display_data"
    },
    {
     "data": {
      "image/png": "[encoded data removed]",
      "text/plain": [
       "<Figure size 432x288 with 1 Axes>"
      ]
     },
     "metadata": {
      "needs_background": "light"
     },
     "output_type": "display_data"
    },
    {
     "data": {
      "image/png": "[encoded data removed]",
      "text/plain": [
       "<Figure size 432x288 with 1 Axes>"
      ]
     },
     "metadata": {
      "needs_background": "light"
     },
     "output_type": "display_data"
    }
   ],
   "source": [
    "for i in ([120+j for j in range(10)]):\n",
    "    dim_ = X[:,i]\n",
    "    if stats.describe(dim_).variance > 0.01:\n",
    "        dim_ = dim_[(dim_> 0.0) & (dim_ < 0.9)]\n",
    "        plt.hist(dim_, bins=40, normed=0, facecolor=\"blue\", edgecolor=\"black\", alpha=0.7)\n",
    "        plt.show()"
   ]
  },
  {
   "cell_type": "markdown",
   "metadata": {},
   "source": [
    "### 特定维度上有一些相关性"
   ]
  },
  {
   "cell_type": "code",
   "execution_count": 44,
   "metadata": {},
   "outputs": [
    {
     "name": "stdout",
     "output_type": "stream",
     "text": [
      "120 : coef:  1.0\n",
      "121 : coef:  0.5694842776797566\n",
      "122 : coef:  0.18477821642669387\n",
      "123 : coef:  0.02079021094922234\n",
      "124 : coef:  0.003934534936129204\n",
      "125 : coef:  -0.0033816435400494723\n",
      "126 : coef:  -0.00462650085483818\n",
      "127 : coef:  -0.002496895948717937\n",
      "128 : coef:  0.005801214854331849\n",
      "129 : coef:  0.003648864944564496\n",
      "400 : coef:  -0.0020980912101178518\n",
      "401 : coef:  -0.0028060664051388494\n",
      "402 : coef:  -0.0033113361829081684\n",
      "403 : coef:  0.02789415282972582\n",
      "404 : coef:  0.02668095952810403\n",
      "405 : coef:  0.007442985623928713\n",
      "406 : coef:  -0.03810346075121097\n",
      "407 : coef:  -0.015925655241179493\n",
      "408 : coef:  0.01193505786412778\n",
      "409 : coef:  0.04523392735806065\n",
      "================\n",
      "120 : coef:  1.0\n",
      "121 : coef:  0.5694842776797566\n",
      "148 : coef:  0.7938519605553143\n",
      "149 : coef:  0.5548987719392267\n"
     ]
    },
    {
     "name": "stderr",
     "output_type": "stream",
     "text": [
      "/Users/bytedance/miniconda3/envs/tf1/lib/python2.7/site-packages/numpy/lib/function_base.py:2530: RuntimeWarning: invalid value encountered in true_divide\n",
      "  c /= stddev[:, None]\n",
      "/Users/bytedance/miniconda3/envs/tf1/lib/python2.7/site-packages/numpy/lib/function_base.py:2531: RuntimeWarning: invalid value encountered in true_divide\n",
      "  c /= stddev[None, :]\n"
     ]
    }
   ],
   "source": [
    "for i in ([120+j for j in range(10)] + [400+j for j in range(10)]):\n",
    "    print i, ': coef: ', np.corrcoef(X[y_label == 1, 120],X[y_label == 1, i])[0,1]\n",
    "\n",
    "print '================'\n",
    "for i in range(784):\n",
    "    if np.corrcoef(X[y_label == 1, 120],X[y_label == 1, i])[0,1] > 0.5:\n",
    "        print i, ': coef: ', np.corrcoef(X[y_label == 1, 120],X[y_label == 1, i])[0,1]"
   ]
  },
  {
   "cell_type": "code",
   "execution_count": null,
   "metadata": {},
   "outputs": [],
   "source": []
  },
  {
   "cell_type": "markdown",
   "metadata": {},
   "source": [
    "## 中间输入分析 "
   ]
  },
  {
   "cell_type": "code",
   "execution_count": 74,
   "metadata": {},
   "outputs": [],
   "source": [
    "middle_ret = MODELS['AE_model_tf_encode_layer'].predict(X)"
   ]
  },
  {
   "cell_type": "code",
   "execution_count": 77,
   "metadata": {},
   "outputs": [],
   "source": [
    "relu_middle_ret = np.clip(middle_ret, a_min=0, a_max=np.inf)"
   ]
  },
  {
   "cell_type": "markdown",
   "metadata": {},
   "source": [
    "### 有一些激活神经元基本没起到作用\n",
    "\n",
    "不同初始化的时候，s_dim的输出可能不一样"
   ]
  },
  {
   "cell_type": "code",
   "execution_count": 78,
   "metadata": {},
   "outputs": [
    {
     "name": "stdout",
     "output_type": "stream",
     "text": [
      "[1, 6, 8, 9, 16, 20, 21, 23, 28, 31, 32, 36, 39, 41, 44, 45, 47, 52, 56, 57, 59, 61, 63, 64, 72, 74, 75, 77, 83, 89, 92, 93, 94, 96, 98, 100, 101, 105, 107, 111, 113, 115, 117, 123, 127]\n"
     ]
    }
   ],
   "source": [
    "s_dim = []\n",
    "for i in range(128):\n",
    "    dim_ = relu_middle_ret[:,i]\n",
    "    if stats.describe(dim_).variance < 0.01:\n",
    "        s_dim.append(i)\n",
    "\n",
    "print s_dim"
   ]
  },
  {
   "cell_type": "code",
   "execution_count": null,
   "metadata": {},
   "outputs": [],
   "source": []
  },
  {
   "cell_type": "markdown",
   "metadata": {},
   "source": [
    "### 单个神经元有一定截尾正态性; 神经元之间不能被视为独立的正态变量"
   ]
  },
  {
   "cell_type": "code",
   "execution_count": 79,
   "metadata": {},
   "outputs": [
    {
     "name": "stdout",
     "output_type": "stream",
     "text": [
      "120 , corr:  0.9999999999999998\n",
      "corr dims:  [0, 2, 3, 4, 7, 10, 11, 12, 13, 14, 17, 18, 22, 24, 26, 29, 30, 35, 38, 40, 42, 43, 46, 48, 50, 53, 55, 58, 62, 65, 66, 68, 69, 70, 79, 80, 81, 82, 85, 86, 87, 88, 90, 91, 95, 97, 99, 102, 103, 104, 108, 109, 112, 114, 118, 119, 120, 121, 122, 124, 125]\n",
      "120 , corr:  0.9999999999999998\n",
      "corr relu dims:  [0, 2, 3, 4, 7, 10, 11, 12, 13, 14, 17, 18, 22, 24, 26, 29, 30, 35, 38, 40, 42, 43, 46, 48, 50, 53, 55, 58, 62, 65, 66, 68, 69, 70, 79, 80, 81, 82, 85, 86, 87, 88, 90, 91, 95, 97, 99, 102, 103, 104, 108, 109, 112, 114, 118, 119, 120, 121, 122, 124, 125]\n"
     ]
    }
   ],
   "source": [
    "corr_dims = []\n",
    "corr_relu_dims = []\n",
    "\n",
    "for i in range(128):\n",
    "    corr_ = np.corrcoef(middle_ret[:,120], middle_ret[:,i])[0,1]\n",
    "    if corr_ > 0.2:\n",
    "        corr_dims.append(i)\n",
    "    if corr_ > 0.5:\n",
    "        print i, ', corr: ', corr_\n",
    "\n",
    "print \"corr dims: \", corr_dims\n",
    "        \n",
    "for i in range(128):\n",
    "    corr_ = np.corrcoef(relu_middle_ret[:,120], relu_middle_ret[:,i])[0,1]\n",
    "    if corr_ > 0.2:\n",
    "        corr_relu_dims.append(i)\n",
    "    if corr_ > 0.5:\n",
    "        print i, ', corr: ', corr_\n",
    "\n",
    "        \n",
    "print \"corr relu dims: \", corr_relu_dims"
   ]
  },
  {
   "cell_type": "code",
   "execution_count": 80,
   "metadata": {},
   "outputs": [
    {
     "data": {
      "image/png": "[encoded data removed]",
      "text/plain": [
       "<Figure size 432x288 with 1 Axes>"
      ]
     },
     "metadata": {
      "needs_background": "light"
     },
     "output_type": "display_data"
    },
    {
     "data": {
      "image/png": "[encoded data removed]",
      "text/plain": [
       "<Figure size 432x288 with 1 Axes>"
      ]
     },
     "metadata": {
      "needs_background": "light"
     },
     "output_type": "display_data"
    },
    {
     "data": {
      "image/png": "[encoded data removed]",
      "text/plain": [
       "<Figure size 432x288 with 1 Axes>"
      ]
     },
     "metadata": {
      "needs_background": "light"
     },
     "output_type": "display_data"
    },
    {
     "data": {
      "image/png": "[encoded data removed]",
      "text/plain": [
       "<Figure size 432x288 with 1 Axes>"
      ]
     },
     "metadata": {
      "needs_background": "light"
     },
     "output_type": "display_data"
    },
    {
     "data": {
      "image/png": "[encoded data removed]",
      "text/plain": [
       "<Figure size 432x288 with 1 Axes>"
      ]
     },
     "metadata": {
      "needs_background": "light"
     },
     "output_type": "display_data"
    },
    {
     "data": {
      "image/png": "[encoded data removed]",
      "text/plain": [
       "<Figure size 432x288 with 1 Axes>"
      ]
     },
     "metadata": {
      "needs_background": "light"
     },
     "output_type": "display_data"
    },
    {
     "data": {
      "image/png": "[encoded data removed]",
      "text/plain": [
       "<Figure size 432x288 with 1 Axes>"
      ]
     },
     "metadata": {
      "needs_background": "light"
     },
     "output_type": "display_data"
    },
    {
     "data": {
      "image/png": "[encoded data removed]",
      "text/plain": [
       "<Figure size 432x288 with 1 Axes>"
      ]
     },
     "metadata": {
      "needs_background": "light"
     },
     "output_type": "display_data"
    },
    {
     "data": {
      "image/png": "[encoded data removed]",
      "text/plain": [
       "<Figure size 432x288 with 1 Axes>"
      ]
     },
     "metadata": {
      "needs_background": "light"
     },
     "output_type": "display_data"
    },
    {
     "data": {
      "image/png": "[encoded data removed]",
      "text/plain": [
       "<Figure size 432x288 with 1 Axes>"
      ]
     },
     "metadata": {
      "needs_background": "light"
     },
     "output_type": "display_data"
    }
   ],
   "source": [
    "for i in ([j for j in range(10)]):\n",
    "    dim_ = middle_ret[:,i]\n",
    "    if stats.describe(dim_).variance > 0.01:\n",
    "        plt.hist(dim_, bins=40, normed=0, facecolor=\"blue\", edgecolor=\"black\", alpha=0.7)\n",
    "        plt.show()"
   ]
  },
  {
   "cell_type": "markdown",
   "metadata": {},
   "source": [
    "### 【？】如果去掉relu，encode层是个正态吗\n",
    "比较勉强算带偏的正态\n"
   ]
  },
  {
   "cell_type": "code",
   "execution_count": null,
   "metadata": {},
   "outputs": [],
   "source": []
  },
  {
   "cell_type": "markdown",
   "metadata": {},
   "source": [
    "## N(0,1)  + decode层的生成效果：看不出任何东西"
   ]
  },
  {
   "cell_type": "markdown",
   "metadata": {},
   "source": [
    "不行。证明了必须从正确的分布中采样；要保证采出来的东西是能与原始点对应上的"
   ]
  },
  {
   "cell_type": "code",
   "execution_count": null,
   "metadata": {},
   "outputs": [],
   "source": [
    "#------------ 1. N(0,1) + relu "
   ]
  },
  {
   "cell_type": "code",
   "execution_count": 90,
   "metadata": {},
   "outputs": [],
   "source": [
    "randn_input = np.reshape(np.random.randn(12800), (100,128))"
   ]
  },
  {
   "cell_type": "code",
   "execution_count": 91,
   "metadata": {},
   "outputs": [
    {
     "data": {
      "image/png": "[encoded data removed]",
      "text/plain": [
       "<Figure size 432x288 with 1 Axes>"
      ]
     },
     "metadata": {
      "needs_background": "light"
     },
     "output_type": "display_data"
    },
    {
     "data": {
      "text/plain": [
       "(array([ 1.,  2., 15., 22., 27., 15., 17., 20.,  4.,  5.]),\n",
       " array([-2.42204284, -1.93519268, -1.44834253, -0.96149238, -0.47464223,\n",
       "         0.01220793,  0.49905808,  0.98590823,  1.47275838,  1.95960854,\n",
       "         2.44645869]),\n",
       " <a list of 10 Patch objects>)"
      ]
     },
     "execution_count": 91,
     "metadata": {},
     "output_type": "execute_result"
    },
    {
     "data": {
      "image/png": "[encoded data removed]",
      "text/plain": [
       "<Figure size 432x288 with 1 Axes>"
      ]
     },
     "metadata": {
      "needs_background": "light"
     },
     "output_type": "display_data"
    }
   ],
   "source": [
    "inp = np.clip(randn_input[0], a_min=0, a_max=np.inf)\n",
    "\n",
    "plt.hist(inp, bins=10, normed=0, facecolor=\"blue\", edgecolor=\"black\", alpha=0.7)\n",
    "plt.show()\n",
    "plt.hist(randn_input[0], bins=10, normed=0, facecolor=\"blue\", edgecolor=\"black\", alpha=0.7)"
   ]
  },
  {
   "cell_type": "markdown",
   "metadata": {},
   "source": [
    "=================================="
   ]
  },
  {
   "cell_type": "markdown",
   "metadata": {},
   "source": [
    "有了框架之后，这样的事就是能轻松而正确地复现，于是没意义了；不过总结一类的 star 不是依然很多吗，但没有被当做基本框架 / api 来用\n",
    "但这里的基本 api 一定是解决或优化了一个新的共性问题才有希望的，对我来说还太远了"
   ]
  },
  {
   "cell_type": "markdown",
   "metadata": {},
   "source": [
    "=================== 看看randn生成的效果\n",
    "\n",
    "理论上由于这个 randn 不知道原先的点是什么，所以decode效果不应该特别行"
   ]
  },
  {
   "cell_type": "code",
   "execution_count": 107,
   "metadata": {},
   "outputs": [],
   "source": [
    "randn_input = np.reshape(np.random.randn(12800), (100,128))\n",
    "inp = np.clip(randn_input, a_min=0, a_max=np.inf)\n",
    "gen_1 = MODELS['AE_model_tf_decode_layer'].predict(inp)"
   ]
  },
  {
   "cell_type": "code",
   "execution_count": 108,
   "metadata": {},
   "outputs": [
    {
     "data": {
      "image/png": "[encoded data removed]",
      "text/plain": [
       "<Figure size 288x288 with 10 Axes>"
      ]
     },
     "metadata": {
      "needs_background": "light"
     },
     "output_type": "display_data"
    }
   ],
   "source": [
    "a = plot(gen_1[0:10])"
   ]
  },
  {
   "cell_type": "code",
   "execution_count": 97,
   "metadata": {},
   "outputs": [
    {
     "data": {
      "image/png": "[encoded data removed]",
      "text/plain": [
       "<Figure size 288x288 with 10 Axes>"
      ]
     },
     "metadata": {
      "needs_background": "light"
     },
     "output_type": "display_data"
    }
   ],
   "source": [
    "X_input = MODELS['AE_model_tf_encode_layer'].predict(X)\n",
    "inp = np.clip(X_input, a_min=0, a_max=np.inf)\n",
    "gen_2 = MODELS['AE_model_tf_decode_layer'].predict(inp)\n",
    "a = plot(gen_2[0:10])"
   ]
  },
  {
   "cell_type": "code",
   "execution_count": null,
   "metadata": {},
   "outputs": [],
   "source": []
  },
  {
   "cell_type": "markdown",
   "metadata": {},
   "source": [
    "## N(0,1) + 从 X 中采样的生成效果：极度模糊"
   ]
  },
  {
   "cell_type": "code",
   "execution_count": null,
   "metadata": {},
   "outputs": [],
   "source": []
  },
  {
   "cell_type": "code",
   "execution_count": 102,
   "metadata": {},
   "outputs": [
    {
     "data": {
      "image/png": "[encoded data removed]",
      "text/plain": [
       "<Figure size 288x288 with 10 Axes>"
      ]
     },
     "metadata": {
      "needs_background": "light"
     },
     "output_type": "display_data"
    }
   ],
   "source": [
    "a = plot(X[y_label == 1][0:10])"
   ]
  },
  {
   "cell_type": "code",
   "execution_count": 103,
   "metadata": {},
   "outputs": [],
   "source": [
    "raw_inp = MODELS['AE_model_tf_encode_layer'].predict(X[y_label == 1][0:10])"
   ]
  },
  {
   "cell_type": "code",
   "execution_count": 109,
   "metadata": {},
   "outputs": [],
   "source": [
    "randn_input = np.reshape(np.random.randn(1280), (10,128))\n",
    "inp = raw_inp + randn_input\n",
    "gen_3 = MODELS['AE_model_tf_decode_layer'].predict(inp)"
   ]
  },
  {
   "cell_type": "code",
   "execution_count": 110,
   "metadata": {},
   "outputs": [
    {
     "data": {
      "image/png": "[encoded data removed]",
      "text/plain": [
       "<Figure size 288x288 with 10 Axes>"
      ]
     },
     "metadata": {
      "needs_background": "light"
     },
     "output_type": "display_data"
    }
   ],
   "source": [
    "a = plot(gen_3[0:10])"
   ]
  },
  {
   "cell_type": "code",
   "execution_count": 111,
   "metadata": {},
   "outputs": [],
   "source": [
    "randn_input = np.reshape(np.random.normal(scale=0.1,size=1280), (10,128))\n",
    "inp = raw_inp + randn_input\n",
    "gen_3 = MODELS['AE_model_tf_decode_layer'].predict(inp)"
   ]
  },
  {
   "cell_type": "code",
   "execution_count": 112,
   "metadata": {},
   "outputs": [
    {
     "data": {
      "image/png": "[encoded data removed]",
      "text/plain": [
       "<Figure size 288x288 with 10 Axes>"
      ]
     },
     "metadata": {
      "needs_background": "light"
     },
     "output_type": "display_data"
    }
   ],
   "source": [
    "a = plot(gen_3[0:10])"
   ]
  },
  {
   "cell_type": "code",
   "execution_count": 120,
   "metadata": {},
   "outputs": [
    {
     "data": {
      "image/png": "[encoded data removed]",
      "text/plain": [
       "<Figure size 288x288 with 10 Axes>"
      ]
     },
     "metadata": {
      "needs_background": "light"
     },
     "output_type": "display_data"
    }
   ],
   "source": [
    "randn_scale = 0.5\n",
    "randn_input = np.reshape(np.random.normal(scale=randn_scale,size=7840), (10,784))\n",
    "inp = X[y_label == 1][0:10] + randn_input\n",
    "gen_4 = MODELS['AE_model_tf'].predict(inp)\n",
    "a = plot(gen_4[0:10])"
   ]
  },
  {
   "cell_type": "code",
   "execution_count": null,
   "metadata": {},
   "outputs": [],
   "source": []
  },
  {
   "cell_type": "markdown",
   "metadata": {},
   "source": [
    "## 尝试一下抗噪网络：+N(0,1) 抽样还能还原出来"
   ]
  },
  {
   "cell_type": "markdown",
   "metadata": {},
   "source": [
    "### 在X上加"
   ]
  },
  {
   "cell_type": "code",
   "execution_count": 116,
   "metadata": {},
   "outputs": [
    {
     "data": {
      "text/plain": [
       "{'1_decode_model': <tensorflow.python.keras.engine.sequential.Sequential at 0x7fe7e8b37410>,\n",
       " 'AE_model': <tensorflow.python.keras.engine.sequential.Sequential at 0x7fe80872ae10>,\n",
       " 'AE_model_tf': <tensorflow.python.keras.engine.training.Model at 0x7fe83a077f50>,\n",
       " 'AE_model_tf_decode_layer': <tensorflow.python.keras.engine.training.Model at 0x7fe802385550>,\n",
       " 'AE_model_tf_encode_layer': <tensorflow.python.keras.engine.training.Model at 0x7fe839f54e90>,\n",
       " 'init_model': <tensorflow.python.keras.engine.sequential.Sequential at 0x7fe801c3dbd0>}"
      ]
     },
     "execution_count": 116,
     "metadata": {},
     "output_type": "execute_result"
    }
   ],
   "source": [
    "randn_input = np.random.randn(55000*784).reshape(55000,784)\n",
    "X_rand_input = X + randn_input"
   ]
  },
  {
   "cell_type": "code",
   "execution_count": 122,
   "metadata": {},
   "outputs": [],
   "source": [
    "X_placeholder = tf.keras.layers.Input(shape=(784,), dtype=tf.float32)\n",
    "gen_placeholder = tf.keras.layers.Input(shape=(128,), dtype=tf.float32)\n",
    "layer1 = tf.keras.layers.Dense(128, activation=None, kernel_initializer=tf.keras.initializers.RandomNormal(seed=1337))\n",
    "relu_layer = tf.keras.layers.ReLU()\n",
    "layer2 = tf.keras.layers.Dense(784, activation=None, kernel_initializer=tf.keras.initializers.RandomNormal(seed=1337))\n",
    "middle_outputs = layer1(X_placeholder)\n",
    "_2 = relu_layer(middle_outputs)\n",
    "outputs = layer2(_2)\n",
    "gen_outputs = layer2(gen_placeholder)\n",
    "\n",
    "MODELS['AE_model_noise'] = tf.keras.Model(X_placeholder, outputs)\n",
    "MODELS['AE_model_noise_encode_layer'] = tf.keras.Model(X_placeholder, middle_outputs)\n",
    "MODELS['AE_model_noise_decode_layer'] = tf.keras.Model(gen_placeholder, gen_outputs)"
   ]
  },
  {
   "cell_type": "code",
   "execution_count": 125,
   "metadata": {},
   "outputs": [
    {
     "name": "stdout",
     "output_type": "stream",
     "text": [
      "Epoch 1/5\n",
      "55000/55000 [==============================] - 6s 112us/sample - loss: 0.0385\n",
      "Epoch 2/5\n",
      "55000/55000 [==============================] - 5s 84us/sample - loss: 0.0369\n",
      "Epoch 3/5\n",
      "55000/55000 [==============================] - 4s 75us/sample - loss: 0.0360\n",
      "Epoch 4/5\n",
      "55000/55000 [==============================] - 4s 78us/sample - loss: 0.0357\n",
      "Epoch 5/5\n",
      "55000/55000 [==============================] - 4s 78us/sample - loss: 0.0355\n"
     ]
    },
    {
     "data": {
      "text/plain": [
       "<tensorflow.python.keras.callbacks.History at 0x7fe82a622750>"
      ]
     },
     "execution_count": 125,
     "metadata": {},
     "output_type": "execute_result"
    }
   ],
   "source": [
    "MODELS['AE_model_noise'].compile(optimizer='adam', loss=tf.keras.losses.MeanSquaredError())\n",
    "MODELS['AE_model_noise'].fit(X_rand_input, X, epochs=5)"
   ]
  },
  {
   "cell_type": "markdown",
   "metadata": {},
   "source": [
    "#### 在原始数据上加上 N(0,1) 来生成一些新数据，可以做到了"
   ]
  },
  {
   "cell_type": "code",
   "execution_count": 132,
   "metadata": {},
   "outputs": [],
   "source": [
    "randn_inp = np.random.randn(7840).reshape(10, 784)\n",
    "inp = X[0:10] + randn_inp\n",
    "ret = MODELS['AE_model_noise'].predict(inp)"
   ]
  },
  {
   "cell_type": "code",
   "execution_count": 133,
   "metadata": {},
   "outputs": [
    {
     "data": {
      "image/png": "[encoded data removed]",
      "text/plain": [
       "<Figure size 288x288 with 10 Axes>"
      ]
     },
     "metadata": {
      "needs_background": "light"
     },
     "output_type": "display_data"
    }
   ],
   "source": [
    "a = plot(ret[0:10])"
   ]
  },
  {
   "cell_type": "markdown",
   "metadata": {},
   "source": [
    "#### 完全随机，输入抗噪网络，效果也还是不行的"
   ]
  },
  {
   "cell_type": "code",
   "execution_count": 130,
   "metadata": {},
   "outputs": [
    {
     "data": {
      "image/png": "[encoded data removed]",
      "text/plain": [
       "<Figure size 288x288 with 10 Axes>"
      ]
     },
     "metadata": {
      "needs_background": "light"
     },
     "output_type": "display_data"
    }
   ],
   "source": [
    "randn_inp = np.random.randn(7840).reshape(10, 784)\n",
    "ret = MODELS['AE_model_noise'].predict(randn_inp)\n",
    "a = plot(ret[0:10])"
   ]
  },
  {
   "cell_type": "code",
   "execution_count": null,
   "metadata": {},
   "outputs": [],
   "source": []
  },
  {
   "cell_type": "markdown",
   "metadata": {},
   "source": [
    "### 【？】在中间层上加\n",
    "\n",
    "中间层上加，或者模型里就生成 randn，作为噪声的一部分加上去；dropout也是相应的方法"
   ]
  },
  {
   "cell_type": "code",
   "execution_count": null,
   "metadata": {},
   "outputs": [],
   "source": []
  },
  {
   "cell_type": "code",
   "execution_count": null,
   "metadata": {},
   "outputs": [],
   "source": []
  },
  {
   "cell_type": "markdown",
   "metadata": {},
   "source": [
    "## 尝试一下采样方法：\n",
    "\n",
    "本质是让原始数据拟合到 N(0,1) 上，使得 N(0,1) 能反向还原到原始数据\n",
    "把原始数据的相关信息保存在网络中\n",
    "然后在单点估计的时候，其实我希望取的还是0 那个点，即概率密度最高的那个点？"
   ]
  },
  {
   "cell_type": "markdown",
   "metadata": {},
   "source": [
    "### 中间encode层拟合N(0,1)分布"
   ]
  },
  {
   "cell_type": "markdown",
   "metadata": {},
   "source": [
    "https://mp.weixin.qq.com/s/5z3Sx5lw5a3C5DrJbH2mqQ\n",
    "U sigma混合生成，em算法？先假设生成概率\n",
    "\n",
    "高斯混合，协方差矩阵的约束：有这一点，就可以学出来了。最好是从诸多1中每个数据点有一个 u sigma，还是所有数据点有整体的高斯混合生成\n",
    "\n",
    "还原回高斯的一个点：是1是0，难负例继续判断。不需要kl loss，用判别器替代了，直到准确率也不再提升\n",
    "\n",
    "侧重哪个？\n",
    "\n",
    "线性模型\n",
    "\n",
    "拟合混合高斯生成其他办法\n",
    "\n",
    "维度之间关联性\n",
    "\n",
    "Em和梯度回传构成了整体计算图流向\n",
    "\n",
    "MAML"
   ]
  },
  {
   "cell_type": "code",
   "execution_count": null,
   "metadata": {},
   "outputs": [],
   "source": []
  },
  {
   "cell_type": "markdown",
   "metadata": {},
   "source": [
    "### 拟合 u, sigma"
   ]
  },
  {
   "cell_type": "code",
   "execution_count": null,
   "metadata": {},
   "outputs": [],
   "source": []
  },
  {
   "cell_type": "markdown",
   "metadata": {},
   "source": [
    "### MCMC 从原始数据中采样"
   ]
  },
  {
   "cell_type": "code",
   "execution_count": null,
   "metadata": {},
   "outputs": [],
   "source": []
  },
  {
   "cell_type": "code",
   "execution_count": null,
   "metadata": {},
   "outputs": [],
   "source": []
  },
  {
   "cell_type": "code",
   "execution_count": null,
   "metadata": {},
   "outputs": [],
   "source": []
  },
  {
   "cell_type": "code",
   "execution_count": null,
   "metadata": {},
   "outputs": [],
   "source": []
  },
  {
   "cell_type": "markdown",
   "metadata": {},
   "source": [
    "# For test"
   ]
  },
  {
   "cell_type": "code",
   "execution_count": null,
   "metadata": {},
   "outputs": [],
   "source": [
    "upsampling2D\n",
    "X\n",
    "encode_model, 128."
   ]
  },
  {
   "cell_type": "code",
   "execution_count": null,
   "metadata": {},
   "outputs": [],
   "source": [
    "#======================== for test\n"
   ]
  },
  {
   "cell_type": "code",
   "execution_count": 153,
   "metadata": {},
   "outputs": [
    {
     "name": "stdout",
     "output_type": "stream",
     "text": [
      "_________________________________________________________________\n",
      "Layer (type)                 Output Shape              Param #   \n",
      "=================================================================\n",
      "input_15 (InputLayer)        (None, 784)               0         \n",
      "_________________________________________________________________\n",
      "dense_59 (Dense)             (None, 128)               100480    \n",
      "_________________________________________________________________\n",
      "dense_60 (Dense)             (None, 784)               101136    \n",
      "=================================================================\n",
      "Total params: 201,616\n",
      "Trainable params: 201,616\n",
      "Non-trainable params: 0\n",
      "_________________________________________________________________\n"
     ]
    }
   ],
   "source": []
  },
  {
   "cell_type": "code",
   "execution_count": 214,
   "metadata": {},
   "outputs": [
    {
     "data": {
      "text/plain": [
       "239"
      ]
     },
     "execution_count": 214,
     "metadata": {},
     "output_type": "execute_result"
    }
   ],
   "source": [
    "len(s_dim)"
   ]
  },
  {
   "cell_type": "code",
   "execution_count": 12,
   "metadata": {},
   "outputs": [
    {
     "name": "stdout",
     "output_type": "stream",
     "text": [
      "[0, 1, 2, 3, 4, 5, 6, 7, 8, 9, 10, 11, 12, 13, 14, 15, 16, 17, 18, 19, 20, 21, 22, 23, 24, 25, 26, 27, 28, 29, 30, 31, 32, 33, 34, 35, 36, 37, 38, 39, 40, 41, 42, 43, 44, 45, 46, 47, 48, 49, 50, 51, 52, 53, 54, 55, 56, 57, 58, 59, 60, 61, 62, 63, 64, 78, 79, 80, 81, 82, 83, 84, 85, 86, 87, 88, 89, 90, 108, 109, 110, 111, 112, 113, 114, 115, 116, 137, 138, 139, 140, 141, 142, 143, 144, 166, 167, 168, 169, 170, 171, 194, 195, 196, 197, 198, 223, 224, 225, 226, 251, 252, 253, 278, 279, 280, 281, 306, 307, 308, 309, 334, 335, 336, 337, 338, 362, 363, 364, 365, 366, 390, 391, 392, 393, 394, 418, 419, 420, 421, 422, 446, 447, 448, 449, 450, 474, 475, 476, 477, 478, 502, 503, 504, 505, 506, 530, 531, 532, 533, 534, 558, 559, 560, 561, 562, 586, 587, 588, 589, 590, 614, 615, 616, 617, 618, 641, 642, 643, 644, 645, 646, 668, 669, 670, 671, 672, 673, 674, 675, 696, 697, 698, 699, 700, 701, 702, 703, 704, 722, 723, 724, 725, 726, 727, 728, 729, 730, 731, 732, 733, 749, 750, 751, 752, 753, 754, 755, 756, 757, 758, 759, 760, 761, 762, 763, 764, 765, 766, 774, 775, 776, 777, 778, 779, 780, 781, 782, 783]\n"
     ]
    }
   ],
   "source": [
    "s_dim = []\n",
    "for i in range(784):\n",
    "    dim_ = X[:,i]\n",
    "    variance = stats.describe(dim_).variance\n",
    "    if variance < 0.001:\n",
    "        s_dim.append(i)\n",
    "print s_dim"
   ]
  },
  {
   "cell_type": "code",
   "execution_count": 139,
   "metadata": {},
   "outputs": [
    {
     "ename": "ValueError",
     "evalue": "You called `set_weights(weights)` on layer \"dense_52\" with a  weight list of length 2, but the layer was expecting 0 weights. Provided weights: [array([[ 0.0522367 , -0.08698255, -0.03261442, .....",
     "output_type": "error",
     "traceback": [
      "\u001b[0;31m---------------------------------------------------------------------------\u001b[0m",
      "\u001b[0;31mValueError\u001b[0m                                Traceback (most recent call last)",
      "\u001b[0;32m<ipython-input-139-2a3fa7defe05>\u001b[0m in \u001b[0;36m<module>\u001b[0;34m()\u001b[0m\n\u001b[1;32m      2\u001b[0m     \u001b[0mtf\u001b[0m\u001b[0;34m.\u001b[0m\u001b[0mkeras\u001b[0m\u001b[0;34m.\u001b[0m\u001b[0mlayers\u001b[0m\u001b[0;34m.\u001b[0m\u001b[0mDense\u001b[0m\u001b[0;34m(\u001b[0m\u001b[0;36m128\u001b[0m\u001b[0;34m,\u001b[0m \u001b[0mactivation\u001b[0m\u001b[0;34m=\u001b[0m\u001b[0;34m'relu'\u001b[0m\u001b[0;34m,\u001b[0m \u001b[0mkernel_initializer\u001b[0m\u001b[0;34m=\u001b[0m\u001b[0mtf\u001b[0m\u001b[0;34m.\u001b[0m\u001b[0mkeras\u001b[0m\u001b[0;34m.\u001b[0m\u001b[0minitializers\u001b[0m\u001b[0;34m.\u001b[0m\u001b[0mRandomNormal\u001b[0m\u001b[0;34m(\u001b[0m\u001b[0mseed\u001b[0m\u001b[0;34m=\u001b[0m\u001b[0;36m1337\u001b[0m\u001b[0;34m)\u001b[0m\u001b[0;34m)\u001b[0m\u001b[0;34m\u001b[0m\u001b[0m\n\u001b[1;32m      3\u001b[0m ])\n\u001b[0;32m----> 4\u001b[0;31m \u001b[0mencode_model\u001b[0m\u001b[0;34m.\u001b[0m\u001b[0mlayers\u001b[0m\u001b[0;34m[\u001b[0m\u001b[0;36m0\u001b[0m\u001b[0;34m]\u001b[0m\u001b[0;34m.\u001b[0m\u001b[0mset_weights\u001b[0m\u001b[0;34m(\u001b[0m\u001b[0mwhole_model\u001b[0m\u001b[0;34m.\u001b[0m\u001b[0mlayers\u001b[0m\u001b[0;34m[\u001b[0m\u001b[0;36m0\u001b[0m\u001b[0;34m]\u001b[0m\u001b[0;34m.\u001b[0m\u001b[0mget_weights\u001b[0m\u001b[0;34m(\u001b[0m\u001b[0;34m)\u001b[0m\u001b[0;34m)\u001b[0m\u001b[0;34m\u001b[0m\u001b[0m\n\u001b[0m",
      "\u001b[0;32m/Users/bytedance/miniconda3/envs/tf1/lib/python2.7/site-packages/tensorflow/python/keras/engine/base_layer.pyc\u001b[0m in \u001b[0;36mset_weights\u001b[0;34m(self, weights)\u001b[0m\n\u001b[1;32m    823\u001b[0m                        \u001b[0mstr\u001b[0m\u001b[0;34m(\u001b[0m\u001b[0mlen\u001b[0m\u001b[0;34m(\u001b[0m\u001b[0mweights\u001b[0m\u001b[0;34m)\u001b[0m\u001b[0;34m)\u001b[0m \u001b[0;34m+\u001b[0m \u001b[0;34m', but the layer was expecting '\u001b[0m \u001b[0;34m+\u001b[0m\u001b[0;34m\u001b[0m\u001b[0m\n\u001b[1;32m    824\u001b[0m                        \u001b[0mstr\u001b[0m\u001b[0;34m(\u001b[0m\u001b[0mlen\u001b[0m\u001b[0;34m(\u001b[0m\u001b[0mparams\u001b[0m\u001b[0;34m)\u001b[0m\u001b[0;34m)\u001b[0m \u001b[0;34m+\u001b[0m \u001b[0;34m' weights. Provided weights: '\u001b[0m \u001b[0;34m+\u001b[0m\u001b[0;34m\u001b[0m\u001b[0m\n\u001b[0;32m--> 825\u001b[0;31m                        str(weights)[:50] + '...')\n\u001b[0m\u001b[1;32m    826\u001b[0m     \u001b[0;32mif\u001b[0m \u001b[0;32mnot\u001b[0m \u001b[0mparams\u001b[0m\u001b[0;34m:\u001b[0m\u001b[0;34m\u001b[0m\u001b[0m\n\u001b[1;32m    827\u001b[0m       \u001b[0;32mreturn\u001b[0m\u001b[0;34m\u001b[0m\u001b[0m\n",
      "\u001b[0;31mValueError\u001b[0m: You called `set_weights(weights)` on layer \"dense_52\" with a  weight list of length 2, but the layer was expecting 0 weights. Provided weights: [array([[ 0.0522367 , -0.08698255, -0.03261442, ....."
     ]
    }
   ],
   "source": [
    "encode_model = tf.keras.models.Sequential([\n",
    "    tf.keras.layers.Dense(128, activation='relu', kernel_initializer=tf.keras.initializers.RandomNormal(seed=1337))\n",
    "])\n",
    "encode_model.layers[0].set_weights(whole_model.layers[0].get_weights())"
   ]
  },
  {
   "cell_type": "code",
   "execution_count": 143,
   "metadata": {},
   "outputs": [
    {
     "ename": "AttributeError",
     "evalue": "'tuple' object has no attribute 'ndims'",
     "output_type": "error",
     "traceback": [
      "\u001b[0;31m---------------------------------------------------------------------------\u001b[0m",
      "\u001b[0;31mAttributeError\u001b[0m                            Traceback (most recent call last)",
      "\u001b[0;32m<ipython-input-143-c68b70b51696>\u001b[0m in \u001b[0;36m<module>\u001b[0;34m()\u001b[0m\n\u001b[1;32m      1\u001b[0m \u001b[0mlayer1\u001b[0m \u001b[0;34m=\u001b[0m \u001b[0mtf\u001b[0m\u001b[0;34m.\u001b[0m\u001b[0mkeras\u001b[0m\u001b[0;34m.\u001b[0m\u001b[0mlayers\u001b[0m\u001b[0;34m.\u001b[0m\u001b[0mDense\u001b[0m\u001b[0;34m(\u001b[0m\u001b[0;36m128\u001b[0m\u001b[0;34m,\u001b[0m \u001b[0mactivation\u001b[0m\u001b[0;34m=\u001b[0m\u001b[0;34m'relu'\u001b[0m\u001b[0;34m,\u001b[0m \u001b[0mkernel_initializer\u001b[0m\u001b[0;34m=\u001b[0m\u001b[0mtf\u001b[0m\u001b[0;34m.\u001b[0m\u001b[0mkeras\u001b[0m\u001b[0;34m.\u001b[0m\u001b[0minitializers\u001b[0m\u001b[0;34m.\u001b[0m\u001b[0mRandomNormal\u001b[0m\u001b[0;34m(\u001b[0m\u001b[0mseed\u001b[0m\u001b[0;34m=\u001b[0m\u001b[0;36m1337\u001b[0m\u001b[0;34m)\u001b[0m\u001b[0;34m)\u001b[0m\u001b[0;34m\u001b[0m\u001b[0m\n\u001b[0;32m----> 2\u001b[0;31m \u001b[0moutputs\u001b[0m \u001b[0;34m=\u001b[0m \u001b[0mlayer1\u001b[0m\u001b[0;34m(\u001b[0m\u001b[0mX\u001b[0m\u001b[0;34m)\u001b[0m\u001b[0;34m\u001b[0m\u001b[0m\n\u001b[0m",
      "\u001b[0;32m/Users/bytedance/miniconda3/envs/tf1/lib/python2.7/site-packages/tensorflow/python/keras/engine/base_layer.pyc\u001b[0m in \u001b[0;36m__call__\u001b[0;34m(self, inputs, *args, **kwargs)\u001b[0m\n\u001b[1;32m    536\u001b[0m       \u001b[0;32mif\u001b[0m \u001b[0;32mnot\u001b[0m \u001b[0mself\u001b[0m\u001b[0;34m.\u001b[0m\u001b[0mbuilt\u001b[0m\u001b[0;34m:\u001b[0m\u001b[0;34m\u001b[0m\u001b[0m\n\u001b[1;32m    537\u001b[0m         \u001b[0;31m# Build layer if applicable (if the `build` method has been overridden).\u001b[0m\u001b[0;34m\u001b[0m\u001b[0;34m\u001b[0m\u001b[0m\n\u001b[0;32m--> 538\u001b[0;31m         \u001b[0mself\u001b[0m\u001b[0;34m.\u001b[0m\u001b[0m_maybe_build\u001b[0m\u001b[0;34m(\u001b[0m\u001b[0minputs\u001b[0m\u001b[0;34m)\u001b[0m\u001b[0;34m\u001b[0m\u001b[0m\n\u001b[0m\u001b[1;32m    539\u001b[0m         \u001b[0;31m# We must set self.built since user defined build functions are not\u001b[0m\u001b[0;34m\u001b[0m\u001b[0;34m\u001b[0m\u001b[0m\n\u001b[1;32m    540\u001b[0m         \u001b[0;31m# constrained to set self.built.\u001b[0m\u001b[0;34m\u001b[0m\u001b[0;34m\u001b[0m\u001b[0m\n",
      "\u001b[0;32m/Users/bytedance/miniconda3/envs/tf1/lib/python2.7/site-packages/tensorflow/python/keras/engine/base_layer.pyc\u001b[0m in \u001b[0;36m_maybe_build\u001b[0;34m(self, inputs)\u001b[0m\n\u001b[1;32m   1589\u001b[0m     \u001b[0;31m# Check input assumptions set before layer building, e.g. input rank.\u001b[0m\u001b[0;34m\u001b[0m\u001b[0;34m\u001b[0m\u001b[0m\n\u001b[1;32m   1590\u001b[0m     input_spec.assert_input_compatibility(\n\u001b[0;32m-> 1591\u001b[0;31m         self.input_spec, inputs, self.name)\n\u001b[0m\u001b[1;32m   1592\u001b[0m     \u001b[0minput_list\u001b[0m \u001b[0;34m=\u001b[0m \u001b[0mnest\u001b[0m\u001b[0;34m.\u001b[0m\u001b[0mflatten\u001b[0m\u001b[0;34m(\u001b[0m\u001b[0minputs\u001b[0m\u001b[0;34m)\u001b[0m\u001b[0;34m\u001b[0m\u001b[0m\n\u001b[1;32m   1593\u001b[0m     \u001b[0;32mif\u001b[0m \u001b[0minput_list\u001b[0m \u001b[0;32mand\u001b[0m \u001b[0mself\u001b[0m\u001b[0;34m.\u001b[0m\u001b[0m_dtype\u001b[0m \u001b[0;32mis\u001b[0m \u001b[0mNone\u001b[0m\u001b[0;34m:\u001b[0m\u001b[0;34m\u001b[0m\u001b[0m\n",
      "\u001b[0;32m/Users/bytedance/miniconda3/envs/tf1/lib/python2.7/site-packages/tensorflow/python/keras/engine/input_spec.pyc\u001b[0m in \u001b[0;36massert_input_compatibility\u001b[0;34m(input_spec, inputs, layer_name)\u001b[0m\n\u001b[1;32m    107\u001b[0m         \u001b[0mspec\u001b[0m\u001b[0;34m.\u001b[0m\u001b[0mmin_ndim\u001b[0m \u001b[0;32mis\u001b[0m \u001b[0;32mnot\u001b[0m \u001b[0mNone\u001b[0m \u001b[0;32mor\u001b[0m\u001b[0;34m\u001b[0m\u001b[0m\n\u001b[1;32m    108\u001b[0m         spec.max_ndim is not None):\n\u001b[0;32m--> 109\u001b[0;31m       \u001b[0;32mif\u001b[0m \u001b[0mx\u001b[0m\u001b[0;34m.\u001b[0m\u001b[0mshape\u001b[0m\u001b[0;34m.\u001b[0m\u001b[0mndims\u001b[0m \u001b[0;32mis\u001b[0m \u001b[0mNone\u001b[0m\u001b[0;34m:\u001b[0m\u001b[0;34m\u001b[0m\u001b[0m\n\u001b[0m\u001b[1;32m    110\u001b[0m         raise ValueError('Input ' + str(input_index) + ' of layer ' +\n\u001b[1;32m    111\u001b[0m                          \u001b[0mlayer_name\u001b[0m \u001b[0;34m+\u001b[0m \u001b[0;34m' is incompatible with the layer: '\u001b[0m\u001b[0;34m\u001b[0m\u001b[0m\n",
      "\u001b[0;31mAttributeError\u001b[0m: 'tuple' object has no attribute 'ndims'"
     ]
    }
   ],
   "source": [
    "layer1 = tf.keras.layers.Dense(128, activation='relu', kernel_initializer=tf.keras.initializers.RandomNormal(seed=1337))\n",
    "outputs = layer1(X)"
   ]
  },
  {
   "cell_type": "code",
   "execution_count": 129,
   "metadata": {},
   "outputs": [],
   "source": [
    "import matplotlib.pyplot as plt\n",
    "import numpy as np\n",
    "import matplotlib"
   ]
  },
  {
   "cell_type": "code",
   "execution_count": 130,
   "metadata": {},
   "outputs": [
    {
     "name": "stderr",
     "output_type": "stream",
     "text": [
      "/Users/bytedance/miniconda3/envs/tf1/lib/python2.7/site-packages/matplotlib/axes/_axes.py:6571: UserWarning: The 'normed' kwarg is deprecated, and has been replaced by the 'density' kwarg.\n",
      "  warnings.warn(\"The 'normed' kwarg is deprecated, and has been \"\n"
     ]
    },
    {
     "data": {
      "image/png": "[encoded data removed]",
      "text/plain": [
       "<Figure size 432x288 with 1 Axes>"
      ]
     },
     "metadata": {
      "needs_background": "light"
     },
     "output_type": "display_data"
    }
   ],
   "source": [
    "data = np.random.randn(10000)\n",
    "plt.hist(data, bins=40, normed=0, facecolor=\"blue\", edgecolor=\"black\", alpha=0.7)\n",
    "plt.show()"
   ]
  },
  {
   "cell_type": "code",
   "execution_count": null,
   "metadata": {},
   "outputs": [],
   "source": []
  },
  {
   "cell_type": "code",
   "execution_count": null,
   "metadata": {},
   "outputs": [],
   "source": []
  },
  {
   "cell_type": "code",
   "execution_count": 106,
   "metadata": {},
   "outputs": [
    {
     "name": "stdout",
     "output_type": "stream",
     "text": [
      "0.1420239\n",
      "[[-0.04594732  0.33756417  0.1566546  ...  0.24597922 -0.17298439\n",
      "   0.3344317 ]\n",
      " [-0.07378011  0.05996239 -0.12274773 ... -0.06251512 -0.2631857\n",
      "   0.05318589]\n",
      " [-0.10832264 -0.0557168  -0.1855376  ...  0.11941113 -0.25670412\n",
      "   0.07930714]\n",
      " ...\n",
      " [-0.21102242  0.1211073   0.08913418 ...  0.04049285 -0.4931556\n",
      "   0.30459324]\n",
      " [-0.05147105 -0.0260731  -0.0332742  ...  0.1318626  -0.35736552\n",
      "  -0.01866552]\n",
      " [-0.1591911   0.01580061 -0.15785278 ... -0.10034064 -0.1855712\n",
      "   0.08295621]]\n",
      "loss 0.019268878\n",
      "logits [[ 5.02898656e-05 -6.96065545e-05  1.79591880e-05 ... -4.69383085e-05\n",
      "   2.32808129e-03  2.22109840e-04]\n",
      " [ 9.72702401e-06  1.92960375e-04  1.02820341e-05 ... -1.65716570e-04\n",
      "   1.67551870e-03  1.59208430e-04]\n",
      " [ 5.67363240e-05  1.16302865e-04  1.76175527e-05 ... -8.47055926e-05\n",
      "  -6.73140166e-04  2.28695688e-04]\n",
      " ...\n",
      " [-6.25893736e-05  1.29115419e-04  3.38650570e-05 ... -3.53581854e-05\n",
      "   1.16595533e-04  3.09395487e-04]\n",
      " [ 7.97955436e-05  1.93757587e-05  2.02916854e-05 ... -1.80901843e-05\n",
      "  -2.84950365e-04 -4.93199332e-05]\n",
      " [-2.68043368e-06  6.37227204e-05  1.45807280e-05 ... -1.21329096e-04\n",
      "   2.45563220e-03  1.63623015e-04]]\n"
     ]
    }
   ],
   "source": [
    "with tf.Session() as sess:\n",
    "    batch_size = 32\n",
    "    epoch = 1\n",
    "    sample_total_num = X.shape[0]\n",
    "    \n",
    "    inputs = tf.keras.Input(shape=(128,), dtype=\"float32\")\n",
    "    labels = tf.keras.Input(shape=(784,), dtype=\"float32\")\n",
    "    decode_layer = tf.keras.layers.Dense(784, activation=None, kernel_initializer=tf.keras.initializers.RandomNormal(seed=1337))\n",
    "    outputs = decode_layer(inputs)\n",
    "    loss = tf.losses.mean_squared_error(labels, outputs)\n",
    "    \n",
    "    train_optim = tf.train.AdamOptimizer().minimize(loss)\n",
    "    init = tf.global_variables_initializer()\n",
    "    sess.run(init)\n",
    "    \n",
    "    print sess.run(loss, feed_dict={inputs: encode_input, labels: X})\n",
    "    print sess.run(outputs, feed_dict={inputs: encode_input[0:10]})\n",
    "    \n",
    "    for _ in range(epoch):\n",
    "        start_idx = 0\n",
    "        end_idx = start_idx + batch_size\n",
    "        \n",
    "        while end_idx < sample_total_num:\n",
    "            x_batch = encode_input[start_idx: end_idx]\n",
    "            y_batch = X[start_idx: end_idx]\n",
    "            sess.run(train_optim, feed_dict={inputs: x_batch, labels: y_batch})\n",
    "            \n",
    "            start_idx = end_idx\n",
    "            end_idx = start_idx + batch_size\n",
    "    \n",
    "    print 'loss', sess.run(loss, feed_dict={inputs: encode_input, labels: X})\n",
    "    print 'logits', sess.run(outputs, feed_dict={inputs: encode_input[0:10]})\n",
    "    "
   ]
  },
  {
   "cell_type": "code",
   "execution_count": null,
   "metadata": {},
   "outputs": [],
   "source": [
    "stats.describe(dim_)"
   ]
  },
  {
   "cell_type": "code",
   "execution_count": null,
   "metadata": {},
   "outputs": [],
   "source": []
  },
  {
   "cell_type": "code",
   "execution_count": 32,
   "metadata": {},
   "outputs": [
    {
     "name": "stdout",
     "output_type": "stream",
     "text": [
      "print 4\n"
     ]
    }
   ],
   "source": [
    "print \"print 4\""
   ]
  },
  {
   "cell_type": "code",
   "execution_count": null,
   "metadata": {},
   "outputs": [],
   "source": [
    "# #-------------- if regenerate layer1\n",
    "# layer1 = tf.keras.layers.Dense(\n",
    "#     128, activation='relu', kernel_initializer=tf.keras.initializers.RandomNormal(seed=1337))\n",
    "# layer1.get_weights()"
   ]
  }
 ],
 "metadata": {
  "kernelspec": {
   "display_name": "Python 2",
   "language": "python",
   "name": "python2"
  },
  "language_info": {
   "codemirror_mode": {
    "name": "ipython",
    "version": 2
   },
   "file_extension": ".py",
   "mimetype": "text/x-python",
   "name": "python",
   "nbconvert_exporter": "python",
   "pygments_lexer": "ipython2",
   "version": "2.7.18"
  },
  "toc": {
   "base_numbering": 1,
   "nav_menu": {},
   "number_sections": true,
   "sideBar": true,
   "skip_h1_title": false,
   "title_cell": "Table of Contents",
   "title_sidebar": "Contents",
   "toc_cell": false,
   "toc_position": {
    "height": "calc(100% - 180px)",
    "left": "10px",
    "top": "150px",
    "width": "384px"
   },
   "toc_section_display": true,
   "toc_window_display": true
  }
 },
 "nbformat": 4,
 "nbformat_minor": 2
}
