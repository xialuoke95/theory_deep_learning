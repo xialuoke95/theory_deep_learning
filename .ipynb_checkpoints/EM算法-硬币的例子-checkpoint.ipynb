{
 "cells": [
  {
   "cell_type": "code",
   "execution_count": 9,
   "id": "8eab8824",
   "metadata": {},
   "outputs": [],
   "source": [
    "# EM算法入门：https://www.zhihu.com/question/40797593/answer/275171156（推导 https://zhuanlan.zhihu.com/p/36331115）\n",
    "# <What is the expectation maximization algorithm?>"
   ]
  },
  {
   "cell_type": "code",
   "execution_count": 30,
   "id": "1887e461",
   "metadata": {},
   "outputs": [],
   "source": [
    "import numpy as np"
   ]
  },
  {
   "cell_type": "code",
   "execution_count": null,
   "id": "a133c1bb",
   "metadata": {},
   "outputs": [],
   "source": [
    "#==================================== 抛硬币的经典例子\n",
    "\n",
    "coin_sets = [\n",
    "    (5,5),\n",
    "    (9,1),\n",
    "    (8,2),\n",
    "    (4,6),\n",
    "    (7,3)\n",
    "]\n"
   ]
  },
  {
   "cell_type": "code",
   "execution_count": 75,
   "id": "90f4596c",
   "metadata": {},
   "outputs": [],
   "source": [
    "# 1. hard EM or soft EM？\n",
    "# - A、B两个coin只要更可能是A就选；决定好A或B后，再迭代一轮\n",
    "# - 给定中立原理，即全空间上 P(A) = P(B)\n",
    "# 2. 硬币的顺序本身是不是信息：是（注意每一组 coin_set 一定是特定的一组，而不是搞出了所有的5正5负）\n",
    "\n",
    "\n",
    "class EM(object):\n",
    "    def __init__(self, init_probs):\n",
    "        self.init_probs = init_probs\n",
    "        self.probs = np.array(init_probs)\n",
    "        coin_nums = len(init_probs)\n",
    "        self.coin_nums = coin_nums\n",
    "        \n",
    "        self.max_iter = 100\n",
    "        self.lower_bound = 0.0\n",
    "    \n",
    "    @classmethod\n",
    "    def _norm_by_rowsum(cls, np_2darray):\n",
    "        return np_2darray / np.expand_dims(np.sum(np_2darray, axis=1), axis=1)\n",
    "\n",
    "    @classmethod\n",
    "    def _one_hot(cls, indexs, class_num):\n",
    "        return np.eye(class_num)[indexs, : ]\n",
    "        \n",
    "    def expectation(self, coin_sets, mode=\"hard\"):\n",
    "        # hard EM\n",
    "        # soft EM\n",
    "        # return: matrix, shape: (coin_sets_num, coin_nums)\n",
    "\n",
    "        coin_seq_X_prob = np.zeros(\n",
    "            [len(coin_sets), self.coin_nums]\n",
    "        )\n",
    "        for i, _ in enumerate(coin_sets):\n",
    "            on,off = _\n",
    "            for j, prob in enumerate(self.probs):\n",
    "                coin_seq_X_prob[i][j] =  pow(prob, on) * pow(1-prob, off)\n",
    "        \n",
    "        # 计算 取到各个硬币的概率（归一化） 的结果\n",
    "        coin_seq = self._norm_by_rowsum(coin_seq_X_prob)\n",
    "        \n",
    "        # hard EM\n",
    "        if mode == \"hard\":\n",
    "            return self._one_hot(np.argmax(coin_seq, axis=1), self.coin_nums)\n",
    "        else:\n",
    "            return coin_seq\n",
    "    \n",
    "    def maxmization(self, coin_seq, coin_sets):\n",
    "        # 计算 各个硬币 的 正反面期望次数，coin_nums * 2\n",
    "        coin_exp_on_off = np.matmul(\n",
    "            np.transpose(coin_seq), \n",
    "            np.array(coin_sets)\n",
    "        )\n",
    "        coin_probs_on_off = self._norm_by_rowsum(coin_exp_on_off)\n",
    "        self.probs = coin_probs_on_off[:,0]\n",
    "        return\n"
   ]
  },
  {
   "cell_type": "code",
   "execution_count": 78,
   "id": "a51575e4",
   "metadata": {},
   "outputs": [
    {
     "name": "stdout",
     "output_type": "stream",
     "text": [
      "[0.79674415 0.51965866]\n"
     ]
    }
   ],
   "source": [
    "#----------------------------------------  EM 10次之后的结果\n",
    "\n",
    "em_obj = EM(init_probs = [0.6, 0.5])\n",
    "for i in range(10):\n",
    "    coin_seq = em_obj.expectation(coin_sets, mode=\"soft\")\n",
    "    em_obj.maxmization(coin_seq, coin_sets)\n",
    "\n",
    "print(em_obj.probs)"
   ]
  },
  {
   "cell_type": "code",
   "execution_count": null,
   "id": "4011a7e9",
   "metadata": {},
   "outputs": [],
   "source": [
    "#----------------------------------------  HARD EM: 在这个case中，10次之后的结果和1次之后等价"
   ]
  },
  {
   "cell_type": "code",
   "execution_count": 79,
   "id": "33355abf",
   "metadata": {},
   "outputs": [
    {
     "name": "stdout",
     "output_type": "stream",
     "text": [
      "[0.8  0.45]\n"
     ]
    }
   ],
   "source": [
    "em_obj = EM(init_probs = [0.6, 0.5])\n",
    "for i in range(10):\n",
    "    coin_seq = em_obj.expectation(coin_sets, mode=\"hard\")\n",
    "    em_obj.maxmization(coin_seq, coin_sets)\n",
    "\n",
    "print(em_obj.probs)"
   ]
  },
  {
   "cell_type": "code",
   "execution_count": null,
   "id": "c62d65f0",
   "metadata": {},
   "outputs": [],
   "source": []
  },
  {
   "cell_type": "code",
   "execution_count": null,
   "id": "1610adfb",
   "metadata": {},
   "outputs": [],
   "source": [
    "# UnitTest\n",
    "em_obj = EM(init_probs = [0.6, 0.5])\n",
    "print(em_obj.probs)\n",
    "coin_seq = em_obj.expectation(coin_sets, mode=\"soft\")\n",
    "print(coin_seq)\n",
    "em_obj.maxmization(coin_seq, coin_sets)\n",
    "print(em_obj.probs)\n",
    "\n"
   ]
  },
  {
   "cell_type": "code",
   "execution_count": null,
   "id": "b353dd94",
   "metadata": {},
   "outputs": [],
   "source": [
    "em_obj = EM(init_probs = [0.6, 0.5])\n",
    "print(em_obj.probs)\n",
    "coin_seq = em_obj.expectation(coin_sets, mode=\"soft\")\n",
    "print(coin_seq)\n",
    "em_obj.maxmization(coin_seq, coin_sets)\n",
    "print(em_obj.probs)"
   ]
  },
  {
   "cell_type": "code",
   "execution_count": null,
   "id": "00e0dba7",
   "metadata": {},
   "outputs": [],
   "source": [
    "# 初始版繁复算法：\n",
    "#     def hard_expectation(self, coin_sets):\n",
    "#         coin_seq = {i: 0 for i in self.coin_idxs}\n",
    "#         coin_seq = []\n",
    "#         coin_sets_num = len)(c)\n",
    "#         coin_seq = np.zeros(coin_)\n",
    "#         for _ in coin_sets:\n",
    "#             on,off = _\n",
    "#             tmp_coin = 0\n",
    "#             max_prob = 0.0\n",
    "\n",
    "#             for idx, prob in enumerate(self.init_probs):                \n",
    "#                 if coin_prob < max_prob:\n",
    "#                     continue\n",
    "\n",
    "#                 tmp_coin = idx\n",
    "#                 max_prob = coin_prob\n",
    "                \n",
    "#             coin_seq.append(tmp_coin)\n",
    "#         return coin_seq\n",
    "\n",
    "################################################################33\n",
    "\n",
    "#     def maxmization(self, coin_seq, coin_sets):        \n",
    "#         coin_result = {i:[0,0] for i in self.coin_idxs}\n",
    "        \n",
    "#         for _, on_off in zip(coin_seq, coin_sets):\n",
    "#             on,off = on_off\n",
    "#             coin_result[_][0] += on\n",
    "#             coin_result[_][1] += off\n",
    "        \n",
    "#         for key, val in coin_result.items():\n",
    "#             prob = val[0] / (val[0] + val[1])\n",
    "#             self.init_probs[key] = prob\n",
    "\n",
    "#         return"
   ]
  }
 ],
 "metadata": {
  "kernelspec": {
   "display_name": "Python 3",
   "language": "python",
   "name": "python3"
  },
  "language_info": {
   "codemirror_mode": {
    "name": "ipython",
    "version": 3
   },
   "file_extension": ".py",
   "mimetype": "text/x-python",
   "name": "python",
   "nbconvert_exporter": "python",
   "pygments_lexer": "ipython3",
   "version": "3.7.3"
  }
 },
 "nbformat": 4,
 "nbformat_minor": 5
}
