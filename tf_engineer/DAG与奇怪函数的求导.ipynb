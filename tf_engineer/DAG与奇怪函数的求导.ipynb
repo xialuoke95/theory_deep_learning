{
 "cells": [
  {
   "cell_type": "code",
   "execution_count": null,
   "metadata": {},
   "outputs": [],
   "source": [
    "#---------------------------\n",
    "# 每一项导数是如何求的？\n",
    "# 计算图的DAG遍历顺序？\n",
    "# 非静态控制流中，计算图是怎么构建的？\n",
    "\n",
    "# tf1->tf2: https://zhuanlan.zhihu.com/p/74858833\n",
    "# 四种gradient：https://www.jianshu.com/p/4fe50a98d0c8, https://stackoverflow.com/questions/50098971/whats-the-difference-between-gradienttape-implicit-gradients-gradients-functi"
   ]
  },
  {
   "cell_type": "code",
   "execution_count": null,
   "metadata": {},
   "outputs": [],
   "source": [
    "#------- 卷积层准备"
   ]
  },
  {
   "cell_type": "code",
   "execution_count": 1,
   "metadata": {},
   "outputs": [],
   "source": [
    "import tensorflow as tf"
   ]
  },
  {
   "cell_type": "code",
   "execution_count": 2,
   "metadata": {},
   "outputs": [],
   "source": [
    "def corr2d(X, K):\n",
    "    h, w = K.shape\n",
    "    Y = tf.Variable(tf.zeros((X.shape[0] - h + 1, X.shape[1] - w +1)))\n",
    "    for i in range(Y.shape[0]):\n",
    "        for j in range(Y.shape[1]):\n",
    "            Y[i,j].assign(tf.cast(tf.reduce_sum(X[i:i+h, j:j+w] * K), dtype=tf.float32))\n",
    "    return Y"
   ]
  },
  {
   "cell_type": "code",
   "execution_count": 3,
   "metadata": {},
   "outputs": [
    {
     "data": {
      "text/plain": [
       "<tf.Variable 'Variable:0' shape=(2, 2) dtype=float32, numpy=\n",
       "array([[19., 25.],\n",
       "       [37., 43.]], dtype=float32)>"
      ]
     },
     "execution_count": 3,
     "metadata": {},
     "output_type": "execute_result"
    }
   ],
   "source": [
    "X = tf.constant([[0,1,2], [3,4,5], [6,7,8]])\n",
    "K = tf.constant([[0,1], [2,3]])\n",
    "corr2d(X, K)"
   ]
  },
  {
   "cell_type": "code",
   "execution_count": null,
   "metadata": {},
   "outputs": [],
   "source": [
    "#-------- 简单函数求导 in tf2"
   ]
  },
  {
   "cell_type": "code",
   "execution_count": 14,
   "metadata": {},
   "outputs": [
    {
     "data": {
      "text/plain": [
       "[<tf.Tensor: shape=(4, 1), dtype=float32, numpy=\n",
       " array([[0.],\n",
       "        [2.],\n",
       "        [4.],\n",
       "        [6.]], dtype=float32)>]"
      ]
     },
     "execution_count": 14,
     "metadata": {},
     "output_type": "execute_result"
    }
   ],
   "source": [
    "x = tf.reshape(tf.Variable(range(4), dtype = tf.float32), (4,1))\n",
    "with tf.GradientTape() as t:\n",
    "    t.watch(x)\n",
    "    y = tf.matmul(tf.transpose(x), x)\n",
    "    dy_dx = t.gradient(y, [x])\n",
    "dy_dx"
   ]
  },
  {
   "cell_type": "code",
   "execution_count": 12,
   "metadata": {},
   "outputs": [],
   "source": [
    "x = tf.reshape(tf.Variable(range(4), dtype = tf.float32), (4,1))\n",
    "z = tf.reshape(tf.Variable(range(4), dtype = tf.float32), (4,1))\n",
    "with tf.GradientTape() as t:\n",
    "    t.watch(x)\n",
    "    t.watch(z)\n",
    "    y = tf.matmul(tf.transpose(z), x)\n",
    "    dy_dxz = t.gradient(y, [x, z])"
   ]
  },
  {
   "cell_type": "code",
   "execution_count": 13,
   "metadata": {},
   "outputs": [
    {
     "data": {
      "text/plain": [
       "[<tf.Tensor: shape=(4, 1), dtype=float32, numpy=\n",
       " array([[0.],\n",
       "        [1.],\n",
       "        [2.],\n",
       "        [3.]], dtype=float32)>,\n",
       " <tf.Tensor: shape=(4, 1), dtype=float32, numpy=\n",
       " array([[0.],\n",
       "        [1.],\n",
       "        [2.],\n",
       "        [3.]], dtype=float32)>]"
      ]
     },
     "execution_count": 13,
     "metadata": {},
     "output_type": "execute_result"
    }
   ],
   "source": [
    "dy_dxz"
   ]
  },
  {
   "cell_type": "code",
   "execution_count": null,
   "metadata": {},
   "outputs": [],
   "source": []
  },
  {
   "cell_type": "code",
   "execution_count": null,
   "metadata": {},
   "outputs": [],
   "source": [
    "# https://trickygo.github.io/Dive-into-DL-TensorFlow2.0/#/chapter07_optimization/7.3_minibatch-sgd\n",
    "# https://stackoverflow.com/questions/37921781/what-does-opt-apply-gradients-do-in-tensorflow"
   ]
  },
  {
   "cell_type": "code",
   "execution_count": 22,
   "metadata": {},
   "outputs": [
    {
     "name": "stdout",
     "output_type": "stream",
     "text": [
      "<tf.Variable 'Variable:0' shape=(4,) dtype=float32, numpy=array([2.3, 1.4, 5.9, 3.6], dtype=float32)>\n",
      "<tf.Variable 'Variable:0' shape=(4,) dtype=float32, numpy=array([ 4.8,  3. , 12. ,  7.4], dtype=float32)>\n"
     ]
    }
   ],
   "source": [
    "train_X = tf.Variable([2.3, 1.4, 5.9, 3.6])\n",
    "train_Y = tf.Variable([4.8, 3.0, 12.0, 7.4])\n",
    "\n",
    "print (train_X)\n",
    "print (train_Y)"
   ]
  },
  {
   "cell_type": "code",
   "execution_count": 24,
   "metadata": {},
   "outputs": [],
   "source": [
    "import tensorflow as tf\n",
    "import numpy as np\n",
    "# tf.enable_eager_exeuction()\n",
    "\n",
    "# W = tf.Variable(np.random.randn())\n",
    "# b = tf.Variable(np.random.randn())\n",
    "\n",
    "W = tf.Variable(0.0)\n",
    "b = tf.Variable(0.0)\n",
    "\n",
    "def linear_regression(inputs):\n",
    "    return inputs * W + b;\n",
    "\n",
    "#  net = tf.keras.Sequential()\n",
    "#  net.add(tf.keras.layers.Dense(1))\n",
    "\n",
    "def MSE(model_fn, inputs, labels):\n",
    "    return tf.reduce_sum(tf.pow(model_fn(inputs) - labels, 2)) / (2 * inputs.shape[0])\n",
    "\n",
    "# loss = tf.losses.MeanSquaredError()\n",
    "\n",
    "# optimizer = tf.optimizers.SGD(learning_rate = 0.001)\n",
    "optimizer = tf.optimizers.SGD(learning_rate = 0.1)\n",
    "\n",
    "with tf.GradientTape() as tape:\n",
    "    loss = MSE(linear_regression, train_X, train_Y)\n",
    "    grads = tape.gradient(loss, [W, b])"
   ]
  },
  {
   "cell_type": "code",
   "execution_count": 7,
   "metadata": {},
   "outputs": [],
   "source": []
  },
  {
   "cell_type": "code",
   "execution_count": 25,
   "metadata": {},
   "outputs": [
    {
     "data": {
      "text/plain": [
       "[<tf.Tensor: shape=(), dtype=float32, numpy=-28.17>,\n",
       " <tf.Tensor: shape=(), dtype=float32, numpy=-6.7999997>]"
      ]
     },
     "execution_count": 25,
     "metadata": {},
     "output_type": "execute_result"
    }
   ],
   "source": [
    "grads"
   ]
  },
  {
   "cell_type": "code",
   "execution_count": 26,
   "metadata": {},
   "outputs": [
    {
     "data": {
      "text/plain": [
       "<tf.Variable 'UnreadVariable' shape=() dtype=int64, numpy=1>"
      ]
     },
     "execution_count": 26,
     "metadata": {},
     "output_type": "execute_result"
    }
   ],
   "source": [
    "optimizer.apply_gradients(zip(grads, [W,b]))"
   ]
  },
  {
   "cell_type": "code",
   "execution_count": 27,
   "metadata": {},
   "outputs": [
    {
     "name": "stdout",
     "output_type": "stream",
     "text": [
      "<tf.Variable 'Variable:0' shape=() dtype=float32, numpy=2.8170002>\n",
      "<tf.Variable 'Variable:0' shape=() dtype=float32, numpy=0.68>\n"
     ]
    }
   ],
   "source": [
    "print(W)\n",
    "print(b)"
   ]
  },
  {
   "cell_type": "code",
   "execution_count": null,
   "metadata": {},
   "outputs": [],
   "source": [
    "# 1) x 一步到位，只能保证方向性\n",
    "# 2）x 学不到直接的函数关系？？"
   ]
  },
  {
   "cell_type": "code",
   "execution_count": null,
   "metadata": {},
   "outputs": [],
   "source": []
  }
 ],
 "metadata": {
  "kernelspec": {
   "display_name": "Python 3",
   "language": "python",
   "name": "python3"
  },
  "language_info": {
   "codemirror_mode": {
    "name": "ipython",
    "version": 3
   },
   "file_extension": ".py",
   "mimetype": "text/x-python",
   "name": "python",
   "nbconvert_exporter": "python",
   "pygments_lexer": "ipython3",
   "version": "3.7.3"
  }
 },
 "nbformat": 4,
 "nbformat_minor": 4
}
